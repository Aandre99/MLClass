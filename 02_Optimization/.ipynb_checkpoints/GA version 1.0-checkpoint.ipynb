{
 "cells": [
  {
   "cell_type": "code",
   "execution_count": 6,
   "metadata": {},
   "outputs": [],
   "source": [
    "import numpy as np\n",
    "import os\n",
    "from tqdm import tqdm\n",
    "import requests"
   ]
  },
  {
   "cell_type": "code",
   "execution_count": 150,
   "metadata": {},
   "outputs": [],
   "source": [
    "def fitness_function(population):\n",
    "    evaluated = []\n",
    "    sum_fitness_value = 0\n",
    "    for chromosome in population:\n",
    "\n",
    "        resp = requests.get('http://localhost:8080/antenna/simulate?phi1={}&theta1={}&phi2={}&theta2={}&phi3={}&theta3={}'.format(chromosome[0],chromosome[1],chromosome[2],chromosome[3],chromosome[4],chromosome[5]))\n",
    "        resp = resp.text\n",
    "        resp = float(resp.split('\\n')[0])\n",
    "        sum_fitness_value += resp\n",
    "        evaluated.append([chromosome,resp])\n",
    "    evaluated.sort(key=lambda x:x[1], reverse=True)\n",
    "    return evaluated,sum_fitness_value\n",
    "\n",
    "def crossover(father1,father2):\n",
    "\n",
    "    child1 = father1[0][:2] + father2[0][2:4] + father1[0][4:]\n",
    "    child2 = father2[0][:2] + father1[0][2:4] + father2[0][4:]\n",
    "\n",
    "    return child1,child2\n",
    "\n",
    "def mutation(chromosome):\n",
    "\n",
    "    prob_mutation = 15\n",
    "    if np.random.randint(0,100) <= prob_mutation:\n",
    "        position = np.random.randint(0,5)\n",
    "        chromosome[position] = 359 if chromosome[position] + 15 > 359 else chromosome[position] + 15\n",
    "    return chromosome\n",
    "\n",
    "def selection(bests_fitness,sum_fitness_value, rate_sub=0.6):\n",
    "    \n",
    "    def select_father(bests_fitness, sum_fitness_value):\n",
    "        choice = np.random.uniform(0,sum_fitness_value)\n",
    "        count_sum = 0\n",
    "        for chrom in bests_fitness[::-1]:\n",
    "            count_sum += chrom[1]\n",
    "            print(count_sum,' is than ',choice)\n",
    "            if count_sum >= choice:\n",
    "                return chrom\n",
    "    \n",
    "    rate_remain = int(len(bests_fitness) * (1-rate_sub))\n",
    "    qtd_crossover = int(np.ceil(len(bests_fitness) * rate_sub))\n",
    "    next_generation = bests_fitness[:rate_remain]\n",
    "    \n",
    "    print(rate_remain)\n",
    "    print(qtd_crossover)\n",
    "    \n",
    "    for i in range(qtd_crossover): \n",
    "        father1 = select_father(bests_fitness,sum_fitness_value)\n",
    "        father2 = select_father(bests_fitness,sum_fitness_value)\n",
    "        \n",
    "        print('father1 = {}'.format(father1[0]))\n",
    "        print('father2 = {}'.format(father2[0]))\n",
    "        next_generation.append(crossover(father1,father2))\n",
    "    return next_generation"
   ]
  },
  {
   "cell_type": "code",
   "execution_count": 50,
   "metadata": {},
   "outputs": [],
   "source": [
    "def genetic_algorithm():\n",
    "    pass\n"
   ]
  },
  {
   "cell_type": "code",
   "execution_count": 151,
   "metadata": {},
   "outputs": [
    {
     "name": "stdout",
     "output_type": "stream",
     "text": [
      "1\n",
      "2\n",
      "-2.8727991965048076  is than  12.263190513242883\n",
      "-1.2992761641122623  is than  12.263190513242883\n",
      "15.643164187143435  is than  12.263190513242883\n",
      "-2.8727991965048076  is than  2.438713021679939\n",
      "-1.2992761641122623  is than  2.438713021679939\n",
      "15.643164187143435  is than  2.438713021679939\n",
      "father1 = [252 197 142 175 199 214]\n",
      "father2 = [252 197 142 175 199 214]\n",
      "-2.8727991965048076  is than  7.772239160936128\n",
      "-1.2992761641122623  is than  7.772239160936128\n",
      "15.643164187143435  is than  7.772239160936128\n",
      "-2.8727991965048076  is than  2.156915764533677\n",
      "-1.2992761641122623  is than  2.156915764533677\n",
      "15.643164187143435  is than  2.156915764533677\n",
      "father1 = [252 197 142 175 199 214]\n",
      "father2 = [252 197 142 175 199 214]\n",
      "[[array([252, 197, 142, 175, 199, 214]), 16.942440351255698], (array([593, 586]), array([593, 586])), (array([593, 586]), array([593, 586]))]\n"
     ]
    }
   ],
   "source": [
    "#inicializando a população\n",
    "population = np.array([[252, 197, 142, 175, 199, 214],\n",
    "       [130, 223, 312,  33, 329, 271],\n",
    "       [151, 313,  94,   6,  40, 261]])\n",
    "#print(fitness_function(population))\n",
    "#print(np.random.randint(2,4))\n",
    "\n",
    "one = [1,2,3,4,5,6]\n",
    "two = [10,20,30,40,50,60]\n",
    "\n",
    "ordened,sum_fitness = fitness_function(population)\n",
    "print(selection(ordened,sum_fitness))"
   ]
  },
  {
   "cell_type": "code",
   "execution_count": 149,
   "metadata": {},
   "outputs": [
    {
     "ename": "AttributeError",
     "evalue": "'numpy.ndarray' object has no attribute 'invert'",
     "output_type": "error",
     "traceback": [
      "\u001b[1;31m---------------------------------------------------------------------------\u001b[0m",
      "\u001b[1;31mAttributeError\u001b[0m                            Traceback (most recent call last)",
      "\u001b[1;32m<ipython-input-149-731daf116109>\u001b[0m in \u001b[0;36m<module>\u001b[1;34m\u001b[0m\n\u001b[1;32m----> 1\u001b[1;33m \u001b[0mnp\u001b[0m\u001b[1;33m.\u001b[0m\u001b[0mrandom\u001b[0m\u001b[1;33m.\u001b[0m\u001b[0mrandint\u001b[0m\u001b[1;33m(\u001b[0m\u001b[1;36m0\u001b[0m\u001b[1;33m,\u001b[0m\u001b[1;36m359\u001b[0m\u001b[1;33m,\u001b[0m\u001b[1;33m(\u001b[0m\u001b[1;36m3\u001b[0m\u001b[1;33m,\u001b[0m\u001b[1;36m6\u001b[0m\u001b[1;33m)\u001b[0m\u001b[1;33m)\u001b[0m\u001b[1;33m.\u001b[0m\u001b[0minvert\u001b[0m\u001b[1;33m(\u001b[0m\u001b[1;33m)\u001b[0m\u001b[1;33m\u001b[0m\u001b[1;33m\u001b[0m\u001b[0m\n\u001b[0m",
      "\u001b[1;31mAttributeError\u001b[0m: 'numpy.ndarray' object has no attribute 'invert'"
     ]
    }
   ],
   "source": [
    "np.random.randint(0,359,(3,6)).invert()"
   ]
  },
  {
   "cell_type": "code",
   "execution_count": 100,
   "metadata": {},
   "outputs": [
    {
     "data": {
      "text/plain": [
       "0.4295834761203843"
      ]
     },
     "execution_count": 100,
     "metadata": {},
     "output_type": "execute_result"
    }
   ],
   "source": [
    "np.random.uniform(0,10)"
   ]
  }
 ],
 "metadata": {
  "kernelspec": {
   "display_name": "Python 3",
   "language": "python",
   "name": "python3"
  },
  "language_info": {
   "codemirror_mode": {
    "name": "ipython",
    "version": 3
   },
   "file_extension": ".py",
   "mimetype": "text/x-python",
   "name": "python",
   "nbconvert_exporter": "python",
   "pygments_lexer": "ipython3",
   "version": "3.7.6"
  }
 },
 "nbformat": 4,
 "nbformat_minor": 4
}
