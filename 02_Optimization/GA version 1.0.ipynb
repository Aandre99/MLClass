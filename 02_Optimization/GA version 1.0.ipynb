{
 "cells": [
  {
   "cell_type": "code",
   "execution_count": 11,
   "metadata": {},
   "outputs": [],
   "source": [
    "import numpy as np\n",
    "import os\n",
    "from tqdm import tqdm\n",
    "import requests\n",
    "import matplotlib.pyplot as plt\n",
    "import json"
   ]
  },
  {
   "cell_type": "code",
   "execution_count": null,
   "metadata": {},
   "outputs": [],
   "source": [
    "#resp = requests.get('https://aydanomachado.com/mlclass/02_Optimization.php?phi1={}&theta1={}&phi2={}&theta2={}&phi3={}&theta3={}&dev_key=Andre%20Santos'.format(chromosome[0],chromosome[1],chromosome[2],chromosome[3],chromosome[4],chromosome[5]))\n",
    "#resp = requests.get('http://localhost:8080/antenna/simulate?phi1={}&theta1={}&phi2={}&theta2={}&phi3={}&theta3={}'.format(chromosome[0],chromosome[1],chromosome[2],chromosome[3],chromosome[4],chromosome[5]))"
   ]
  },
  {
   "cell_type": "code",
   "execution_count": 8,
   "metadata": {},
   "outputs": [],
   "source": [
    "'''\n",
    "Funcão utilizada para computar o valor de ajuste de cada solução da atual\n",
    "população. Retorna a lista de [chomossomo,valor_de_ajuste] e prob_fits que\n",
    "contém a probabilidade de cada cromossomo para a fase de seleção\n",
    "'''\n",
    "\n",
    "def fitness_function(population):\n",
    "    evaluated = []\n",
    "    for chromosome in population:\n",
    "        resp = requests.get('https://aydanomachado.com/mlclass/02_Optimization.php?phi1={}&theta1={}&phi2={}&theta2={}&phi3={}&theta3={}&dev_key=Andre%20Santos'.format(chromosome[0],chromosome[1],chromosome[2],chromosome[3],chromosome[4],chromosome[5]))\n",
    "        resp = resp.text\n",
    "        resp = resp.replace(\"'\", \"\\\"\")\n",
    "        resp = json.loads(resp)\n",
    "        resp = resp['gain']\n",
    "        evaluated.append([chromosome,resp])\n",
    "    evaluated.sort(key=lambda x:x[1], reverse=True)\n",
    "    prob_fits = [x[1] for x in evaluated]\n",
    "    prob_fits = np.exp(prob_fits) / np.sum(np.exp(prob_fits))\n",
    "    return evaluated,prob_fits"
   ]
  },
  {
   "cell_type": "code",
   "execution_count": 15,
   "metadata": {},
   "outputs": [],
   "source": [
    "'''\n",
    "Função que faz o cruzamento de dois cromossomos dados, retorna dois cromossomos filhos\n",
    "'''\n",
    "def crossover(father1,father2):\n",
    "\n",
    "    #child1 = [np.hstack((father1[0][:2],father2[0][2:4],father1[0][4:])),0.0]\n",
    "    #child2 = [np.hstack((father2[0][:2],father1[0][2:4],father2[0][4:])),0.0]\n",
    "    \n",
    "    child1 = [np.hstack((father1[0][:2],father2[0][2:4],father1[0][4:])),0.0]\n",
    "    child2 = [np.hstack((father2[0][:2],father1[0][2:4],father2[0][4:])),0.0]\n",
    "\n",
    "    return child1,child2"
   ]
  },
  {
   "cell_type": "code",
   "execution_count": 16,
   "metadata": {},
   "outputs": [],
   "source": [
    "'''\n",
    "Função que aplicaa mutação a um cromossomo dado, a probabilidade de mutação para um \n",
    "determinado cromossomo é de 5%\n",
    "'''\n",
    "def mutation(new_generation):\n",
    "\n",
    "    prob_mutation = 10\n",
    "    muted = []\n",
    "    for chrom in new_generation:\n",
    "        if np.random.randint(0,100) <= prob_mutation:\n",
    "            position = np.random.randint(0,5)\n",
    "            chrom[0][position] = np.random.randint(0,359)\n",
    "            muted.append(chrom[0])\n",
    "        else:\n",
    "            muted.append(chrom[0])\n",
    "    return muted"
   ]
  },
  {
   "cell_type": "code",
   "execution_count": 5,
   "metadata": {},
   "outputs": [],
   "source": [
    "def selection(ordened_population,prob_fits, rate_sub=0.6):\n",
    "    def select_father(ordened_population, prob_fits):\n",
    "        \n",
    "        choice = np.random.uniform(0,1)\n",
    "        count_sum = 0\n",
    "        for i,chrom in zip(range(len(prob_fits)),prob_fits):        \n",
    "            count_sum += chrom\n",
    "            if count_sum >= choice:\n",
    "                return ordened_population[i]\n",
    "    \n",
    "    qtd_remain = int(np.floor(len(ordened_population)*(1 - rate_sub))) #quantidade de cromossomoes que sobreviverão\n",
    "    qtd_sub = int(np.ceil(len(ordened_population)*rate_sub)) #quantidade de cromossomos que serão substituídos\n",
    "    qtd_crossover = qtd_sub // 2 #quantidade de cruzamento entre 2 pais (que produz 2 filhos)\n",
    "    next_generation = ordened_population[:qtd_remain] #adicionando os sobreviventes a proxima geração\n",
    "   \n",
    "    for i in range(qtd_crossover): \n",
    "        father1 = select_father(ordened_population[::-1],prob_fits[::-1])\n",
    "        father2 = None\n",
    "        \n",
    "        while(True):\n",
    "            father2 = select_father(ordened_population[::-1],prob_fits[::-1])\n",
    "            if not (father2[0] == father1[0]).all():\n",
    "                break\n",
    "                \n",
    "        child1,child2 = crossover(father1,father2)\n",
    "        #print('PAI_1 = {} e PAI_2= {} - > FILHO_1 = {} e FILHO_2= {}'.format(father1[0],father2[0],child1[0],child2[0]))\n",
    "        next_generation.append(child1) \n",
    "        next_generation.append(child2)\n",
    "        \n",
    "    return next_generation"
   ]
  },
  {
   "cell_type": "code",
   "execution_count": 9,
   "metadata": {},
   "outputs": [],
   "source": [
    "def genetic_algorithm(population_init,n_gen,rate_sub=0.6):\n",
    "    \n",
    "    current_gen = population_init\n",
    "    best_config = None\n",
    "    best_value_fits = -float('inf')\n",
    "    count = 0\n",
    "    \n",
    "    for gen in tqdm(range(n_gen)):\n",
    "        current_gen,prob_current_gen = fitness_function(current_gen)\n",
    "        \n",
    "        if best_value_fits < current_gen[0][1]:\n",
    "            best_config = current_gen[0][0]\n",
    "            best_value_fits = current_gen[0][1]\n",
    "        else:\n",
    "            count +=1\n",
    "        \n",
    "        #print(best_value_fits,current_gen[0][1])\n",
    "        '''\n",
    "        if count == 3:\n",
    "            print('5 gerações em melhora')\n",
    "            print('geração ={}'.format(gen))\n",
    "            return best_config,best_value_fits\n",
    "        '''\n",
    "        selected = selection(current_gen,prob_current_gen,rate_sub)\n",
    "        muted = mutation(selected)\n",
    "        \n",
    "        next_gen = muted\n",
    "        current_gen = next_gen\n",
    "    \n",
    "    return best_config,best_value_fits "
   ]
  },
  {
   "cell_type": "code",
   "execution_count": 17,
   "metadata": {},
   "outputs": [
    {
     "name": "stderr",
     "output_type": "stream",
     "text": [
      "100%|██████████████████████████████████████████████████████████████████████████████████| 15/15 [02:28<00:00,  9.89s/it]"
     ]
    },
    {
     "name": "stdout",
     "output_type": "stream",
     "text": [
      "Melhor configuração = [321  26 101 139 249  46], melhor valor = 2.0090328643\n"
     ]
    },
    {
     "name": "stderr",
     "output_type": "stream",
     "text": [
      "\n"
     ]
    }
   ],
   "source": [
    "init_pop = np.random.randint(0,359,(4,6))\n",
    "n_gen = 15\n",
    "best_config, best_value = genetic_algorithm(init_pop, n_gen,0.6)\n",
    "print('Melhor configuração = {}, melhor valor = {}'.format(best_config, best_value))"
   ]
  }
 ],
 "metadata": {
  "kernelspec": {
   "display_name": "Python 3",
   "language": "python",
   "name": "python3"
  },
  "language_info": {
   "codemirror_mode": {
    "name": "ipython",
    "version": 3
   },
   "file_extension": ".py",
   "mimetype": "text/x-python",
   "name": "python",
   "nbconvert_exporter": "python",
   "pygments_lexer": "ipython3",
   "version": "3.7.6"
  }
 },
 "nbformat": 4,
 "nbformat_minor": 4
}
