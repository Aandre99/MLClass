{
 "cells": [
  {
   "cell_type": "code",
   "execution_count": 6,
   "metadata": {},
   "outputs": [],
   "source": [
    "import numpy as np\n",
    "import os\n",
    "from tqdm import tqdm\n",
    "import requests\n",
    "import matplotlib.pyplot as plt\n",
    "import json"
   ]
  },
  {
   "cell_type": "code",
   "execution_count": 21,
   "metadata": {},
   "outputs": [],
   "source": [
    "'''\n",
    "Funcão utilizada para computar o valor de ajuste de cada solução da atual\n",
    "população. Retorna a lista de [chomossomo,valor_de_ajuste] e prob_fits que\n",
    "contém a probabilidade de cada cromossomo para a fase de seleção\n",
    "'''\n",
    "\n",
    "def fitness_function(population):\n",
    "    evaluated = []\n",
    "    for chromosome in population:\n",
    "        #resp = requests.get('https://aydanomachado.com/mlclass/02_Optimization.php?phi1={}&theta1={}&phi2={}&theta2={}&phi3={}&theta3={}&dev_key=Andre%20Santos'.format(chromosome[0],chromosome[1],chromosome[2],chromosome[3],chromosome[4],chromosome[5]))\n",
    "        resp = requests.get('http://localhost:8080/antenna/simulate?phi1={}&theta1={}&phi2={}&theta2={}&phi3={}&theta3={}'.format(chromosome[0],chromosome[1],chromosome[2],chromosome[3],chromosome[4],chromosome[5]))\n",
    "        resp = resp.text\n",
    "        #resp = resp.replace(\"'\", \"\\\"\")\n",
    "        #resp = json.loads(resp)\n",
    "        #resp = resp['gain']\n",
    "        resp = float(resp.split('\\n')[0])\n",
    "        evaluated.append([chromosome,resp])\n",
    "    evaluated.sort(key=lambda x:x[1], reverse=True)\n",
    "    #prob_fits = [x[1] for x in evaluated]\n",
    "    #prob_fits = np.exp(prob_fits) / np.sum(np.exp(prob_fits))\n",
    "    return evaluated#,prob_fits"
   ]
  },
  {
   "cell_type": "code",
   "execution_count": 8,
   "metadata": {},
   "outputs": [],
   "source": [
    "'''\n",
    "Função que faz o cruzamento de dois cromossomos dados, retorna dois cromossomos filhos\n",
    "'''\n",
    "def crossover(father1,father2):\n",
    "    \n",
    "    child1 = [np.hstack((father1[0][:3],father2[0][3:])),0.0]\n",
    "    child2 = [np.hstack((father2[0][:3],father1[0][3:])),0.0]\n",
    "\n",
    "    return child1,child2"
   ]
  },
  {
   "cell_type": "code",
   "execution_count": 9,
   "metadata": {},
   "outputs": [],
   "source": [
    "'''\n",
    "Função que aplicaa mutação a um cromossomo dado, a probabilidade de mutação para um \n",
    "determinado cromossomo é de 5%\n",
    "'''\n",
    "def mutation(new_generation):\n",
    "\n",
    "    prob_mutation = 10\n",
    "    muted = []\n",
    "    for chrom in new_generation:\n",
    "        print(chrom)\n",
    "        if np.random.randint(0,100) <= prob_mutation:\n",
    "            position = np.random.randint(0,5)\n",
    "            chrom[0][position] = np.random.randint(0,359)\n",
    "            muted.append(chrom[0])\n",
    "        else:\n",
    "            muted.append(chrom[0])\n",
    "    return muted"
   ]
  },
  {
   "cell_type": "code",
   "execution_count": 14,
   "metadata": {},
   "outputs": [],
   "source": [
    "def selection(ordened_population):\n",
    "    selected = ordened_population[:2] + ordened_population[-2:]\n",
    "    next_generation = []\n",
    "    for i in range(3):\n",
    "        for j in range(i+1,len(selected)):\n",
    "            next_generation.append(crossover(selected[i],selected[j]))\n",
    "    return next_generation"
   ]
  },
  {
   "cell_type": "code",
   "execution_count": 24,
   "metadata": {},
   "outputs": [],
   "source": [
    "def genetic_algorithm(population_init,n_gen):\n",
    "    \n",
    "    current_gen = population_init\n",
    "    best_config = None\n",
    "    best_value_fits = -float('inf')\n",
    "    count = 0\n",
    "    \n",
    "    for gen in tqdm(range(n_gen)):\n",
    "        current_gen = fitness_function(current_gen)\n",
    "        \n",
    "        if best_value_fits < current_gen[0][1]:\n",
    "            best_config = current_gen[0][0]\n",
    "            best_value_fits = current_gen[0][1]\n",
    "        else:\n",
    "            count +=1\n",
    "        \n",
    "        #print(best_value_fits,current_gen[0][1])\n",
    "        '''\n",
    "        if count == 3:\n",
    "            print('5 gerações em melhora')\n",
    "            print('geração ={}'.format(gen))\n",
    "            return best_config,best_value_fits\n",
    "        '''\n",
    "        selected = selection(current_gen)\n",
    "        muted = mutation(selected)\n",
    "        \n",
    "        next_gen = muted\n",
    "        current_gen = next_gen\n",
    "    \n",
    "    return best_config,best_value_fits "
   ]
  },
  {
   "cell_type": "code",
   "execution_count": 25,
   "metadata": {},
   "outputs": [
    {
     "name": "stderr",
     "output_type": "stream",
     "text": [
      "  0%|                                                                                           | 0/15 [00:00<?, ?it/s]\n"
     ]
    },
    {
     "ename": "IndexError",
     "evalue": "list assignment index out of range",
     "output_type": "error",
     "traceback": [
      "\u001b[1;31m---------------------------------------------------------------------------\u001b[0m",
      "\u001b[1;31mIndexError\u001b[0m                                Traceback (most recent call last)",
      "\u001b[1;32m<ipython-input-25-6737f8c2f048>\u001b[0m in \u001b[0;36m<module>\u001b[1;34m\u001b[0m\n\u001b[0;32m      1\u001b[0m \u001b[0minit_pop\u001b[0m \u001b[1;33m=\u001b[0m \u001b[0mnp\u001b[0m\u001b[1;33m.\u001b[0m\u001b[0mrandom\u001b[0m\u001b[1;33m.\u001b[0m\u001b[0mrandint\u001b[0m\u001b[1;33m(\u001b[0m\u001b[1;36m0\u001b[0m\u001b[1;33m,\u001b[0m\u001b[1;36m359\u001b[0m\u001b[1;33m,\u001b[0m\u001b[1;33m(\u001b[0m\u001b[1;36m6\u001b[0m\u001b[1;33m,\u001b[0m\u001b[1;36m6\u001b[0m\u001b[1;33m)\u001b[0m\u001b[1;33m)\u001b[0m\u001b[1;33m\u001b[0m\u001b[1;33m\u001b[0m\u001b[0m\n\u001b[0;32m      2\u001b[0m \u001b[0mn_gen\u001b[0m \u001b[1;33m=\u001b[0m \u001b[1;36m15\u001b[0m\u001b[1;33m\u001b[0m\u001b[1;33m\u001b[0m\u001b[0m\n\u001b[1;32m----> 3\u001b[1;33m \u001b[0mbest_config\u001b[0m\u001b[1;33m,\u001b[0m \u001b[0mbest_value\u001b[0m \u001b[1;33m=\u001b[0m \u001b[0mgenetic_algorithm\u001b[0m\u001b[1;33m(\u001b[0m\u001b[0minit_pop\u001b[0m\u001b[1;33m,\u001b[0m \u001b[0mn_gen\u001b[0m\u001b[1;33m)\u001b[0m\u001b[1;33m\u001b[0m\u001b[1;33m\u001b[0m\u001b[0m\n\u001b[0m\u001b[0;32m      4\u001b[0m \u001b[0mprint\u001b[0m\u001b[1;33m(\u001b[0m\u001b[1;34m'Melhor configuração = {}, melhor valor = {}'\u001b[0m\u001b[1;33m.\u001b[0m\u001b[0mformat\u001b[0m\u001b[1;33m(\u001b[0m\u001b[0mbest_config\u001b[0m\u001b[1;33m,\u001b[0m \u001b[0mbest_value\u001b[0m\u001b[1;33m)\u001b[0m\u001b[1;33m)\u001b[0m\u001b[1;33m\u001b[0m\u001b[1;33m\u001b[0m\u001b[0m\n",
      "\u001b[1;32m<ipython-input-24-14feee643b57>\u001b[0m in \u001b[0;36mgenetic_algorithm\u001b[1;34m(population_init, n_gen)\u001b[0m\n\u001b[0;32m     23\u001b[0m         '''\n\u001b[0;32m     24\u001b[0m         \u001b[0mselected\u001b[0m \u001b[1;33m=\u001b[0m \u001b[0mselection\u001b[0m\u001b[1;33m(\u001b[0m\u001b[0mcurrent_gen\u001b[0m\u001b[1;33m)\u001b[0m\u001b[1;33m\u001b[0m\u001b[1;33m\u001b[0m\u001b[0m\n\u001b[1;32m---> 25\u001b[1;33m         \u001b[0mmuted\u001b[0m \u001b[1;33m=\u001b[0m \u001b[0mmutation\u001b[0m\u001b[1;33m(\u001b[0m\u001b[0mselected\u001b[0m\u001b[1;33m)\u001b[0m\u001b[1;33m\u001b[0m\u001b[1;33m\u001b[0m\u001b[0m\n\u001b[0m\u001b[0;32m     26\u001b[0m \u001b[1;33m\u001b[0m\u001b[0m\n\u001b[0;32m     27\u001b[0m         \u001b[0mnext_gen\u001b[0m \u001b[1;33m=\u001b[0m \u001b[0mmuted\u001b[0m\u001b[1;33m\u001b[0m\u001b[1;33m\u001b[0m\u001b[0m\n",
      "\u001b[1;32m<ipython-input-9-1d0b9f02a6d2>\u001b[0m in \u001b[0;36mmutation\u001b[1;34m(new_generation)\u001b[0m\n\u001b[0;32m     10\u001b[0m         \u001b[1;32mif\u001b[0m \u001b[0mnp\u001b[0m\u001b[1;33m.\u001b[0m\u001b[0mrandom\u001b[0m\u001b[1;33m.\u001b[0m\u001b[0mrandint\u001b[0m\u001b[1;33m(\u001b[0m\u001b[1;36m0\u001b[0m\u001b[1;33m,\u001b[0m\u001b[1;36m100\u001b[0m\u001b[1;33m)\u001b[0m \u001b[1;33m<=\u001b[0m \u001b[0mprob_mutation\u001b[0m\u001b[1;33m:\u001b[0m\u001b[1;33m\u001b[0m\u001b[1;33m\u001b[0m\u001b[0m\n\u001b[0;32m     11\u001b[0m             \u001b[0mposition\u001b[0m \u001b[1;33m=\u001b[0m \u001b[0mnp\u001b[0m\u001b[1;33m.\u001b[0m\u001b[0mrandom\u001b[0m\u001b[1;33m.\u001b[0m\u001b[0mrandint\u001b[0m\u001b[1;33m(\u001b[0m\u001b[1;36m0\u001b[0m\u001b[1;33m,\u001b[0m\u001b[1;36m5\u001b[0m\u001b[1;33m)\u001b[0m\u001b[1;33m\u001b[0m\u001b[1;33m\u001b[0m\u001b[0m\n\u001b[1;32m---> 12\u001b[1;33m             \u001b[0mchrom\u001b[0m\u001b[1;33m[\u001b[0m\u001b[1;36m0\u001b[0m\u001b[1;33m]\u001b[0m\u001b[1;33m[\u001b[0m\u001b[0mposition\u001b[0m\u001b[1;33m]\u001b[0m \u001b[1;33m=\u001b[0m \u001b[0mnp\u001b[0m\u001b[1;33m.\u001b[0m\u001b[0mrandom\u001b[0m\u001b[1;33m.\u001b[0m\u001b[0mrandint\u001b[0m\u001b[1;33m(\u001b[0m\u001b[1;36m0\u001b[0m\u001b[1;33m,\u001b[0m\u001b[1;36m359\u001b[0m\u001b[1;33m)\u001b[0m\u001b[1;33m\u001b[0m\u001b[1;33m\u001b[0m\u001b[0m\n\u001b[0m\u001b[0;32m     13\u001b[0m             \u001b[0mmuted\u001b[0m\u001b[1;33m.\u001b[0m\u001b[0mappend\u001b[0m\u001b[1;33m(\u001b[0m\u001b[0mchrom\u001b[0m\u001b[1;33m[\u001b[0m\u001b[1;36m0\u001b[0m\u001b[1;33m]\u001b[0m\u001b[1;33m)\u001b[0m\u001b[1;33m\u001b[0m\u001b[1;33m\u001b[0m\u001b[0m\n\u001b[0;32m     14\u001b[0m         \u001b[1;32melse\u001b[0m\u001b[1;33m:\u001b[0m\u001b[1;33m\u001b[0m\u001b[1;33m\u001b[0m\u001b[0m\n",
      "\u001b[1;31mIndexError\u001b[0m: list assignment index out of range"
     ]
    }
   ],
   "source": [
    "init_pop = np.random.randint(0,359,(6,6))\n",
    "n_gen = 15\n",
    "best_config, best_value = genetic_algorithm(init_pop, n_gen)\n",
    "print('Melhor configuração = {}, melhor valor = {}'.format(best_config, best_value))"
   ]
  },
  {
   "cell_type": "code",
   "execution_count": 12,
   "metadata": {},
   "outputs": [],
   "source": [
    "a = fitness_function(np.random.randint(0,359,(6,6)))"
   ]
  },
  {
   "cell_type": "code",
   "execution_count": 13,
   "metadata": {},
   "outputs": [
    {
     "data": {
      "text/plain": [
       "([[array([ 36, 177, 318, 187,  80, 154]), 3.2118530222098993],\n",
       "  [array([207, 260, 190, 318,  79, 154]), 1.5740112788668046],\n",
       "  [array([216, 280, 148, 299, 227, 176]), 0.07891692316261034],\n",
       "  [array([340,   3, 316, 299, 270, 257]), -0.9491495596765135],\n",
       "  [array([129, 165,  54,  24,  21, 121]), -2.993129402011576],\n",
       "  [array([145, 214, 350, 163, 131, 338]), -4.683471907927769]],\n",
       " array([7.96195763e-01, 1.54779782e-01, 3.47058753e-02, 1.24142190e-02,\n",
       "        1.60779338e-03, 2.96567675e-04]))"
      ]
     },
     "execution_count": 13,
     "metadata": {},
     "output_type": "execute_result"
    }
   ],
   "source": [
    "a"
   ]
  },
  {
   "cell_type": "code",
   "execution_count": 17,
   "metadata": {},
   "outputs": [
    {
     "data": {
      "text/plain": [
       "[([array([ 36, 177, 318, 318,  79, 154]), 0.0],\n",
       "  [array([207, 260, 190, 187,  80, 154]), 0.0]),\n",
       " ([array([ 36, 177, 318,  24,  21, 121]), 0.0],\n",
       "  [array([129, 165,  54, 187,  80, 154]), 0.0]),\n",
       " ([array([ 36, 177, 318, 163, 131, 338]), 0.0],\n",
       "  [array([145, 214, 350, 187,  80, 154]), 0.0]),\n",
       " ([array([207, 260, 190,  24,  21, 121]), 0.0],\n",
       "  [array([129, 165,  54, 318,  79, 154]), 0.0]),\n",
       " ([array([207, 260, 190, 163, 131, 338]), 0.0],\n",
       "  [array([145, 214, 350, 318,  79, 154]), 0.0]),\n",
       " ([array([129, 165,  54, 163, 131, 338]), 0.0],\n",
       "  [array([145, 214, 350,  24,  21, 121]), 0.0])]"
      ]
     },
     "execution_count": 17,
     "metadata": {},
     "output_type": "execute_result"
    }
   ],
   "source": []
  },
  {
   "cell_type": "code",
   "execution_count": null,
   "metadata": {},
   "outputs": [],
   "source": []
  }
 ],
 "metadata": {
  "kernelspec": {
   "display_name": "Python 3",
   "language": "python",
   "name": "python3"
  },
  "language_info": {
   "codemirror_mode": {
    "name": "ipython",
    "version": 3
   },
   "file_extension": ".py",
   "mimetype": "text/x-python",
   "name": "python",
   "nbconvert_exporter": "python",
   "pygments_lexer": "ipython3",
   "version": "3.7.6"
  }
 },
 "nbformat": 4,
 "nbformat_minor": 4
}
