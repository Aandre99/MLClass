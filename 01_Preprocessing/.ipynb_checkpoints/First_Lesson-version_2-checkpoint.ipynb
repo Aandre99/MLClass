{
 "cells": [
  {
   "cell_type": "code",
   "execution_count": 1,
   "metadata": {},
   "outputs": [],
   "source": [
    "#!/usr/bin/env python3\n",
    "# -*- coding: utf-8 -*-\n",
    "\"\"\"\n",
    "Atividade para trabalhar o pré-processamento dos dados.\n",
    "\n",
    "Criação de modelo preditivo para diabetes e envio para verificação de peformance\n",
    "no servidor.\n",
    "\n",
    "@author: Aydano Machado <aydano.machado@gmail.com>\n",
    "\"\"\"\n",
    "\n",
    "import pandas as pd\n",
    "from sklearn.neighbors import KNeighborsClassifier\n",
    "import requests"
   ]
  },
  {
   "cell_type": "code",
   "execution_count": 3,
   "metadata": {},
   "outputs": [
    {
     "name": "stdout",
     "output_type": "stream",
     "text": [
      "\n",
      " - Lendo o arquivo com o dataset sobre diabetes\n"
     ]
    }
   ],
   "source": [
    "print('\\n - Lendo o arquivo com o dataset sobre diabetes')\n",
    "data = pd.read_csv('diabetes_dataset.csv')"
   ]
  },
  {
   "cell_type": "markdown",
   "metadata": {},
   "source": [
    "<h1>Atributos do dataset:</h1>\n",
    "<p><b>Pregnancies</b>: número de vezes grávida</p>\n",
    "<p><b>Glucose</b>: concentração plasmática de glicose a 2 horas em um teste oral de tolerância à glicose</p>\n",
    "<p><b>BloodPressure</b>: pressão arterial diastólica (mm Hg)</p>\n",
    "<p><b>SkinThickness</b>: espessura da dobra da pele do tríceps (mm)</p>\n",
    "<p><b>Insulin</b>: insulina sérica de 2 horas (mu U/ml)</p>\n",
    "<p><b>BMI</b>: índice de massa corporal (peso em kg / (altura em m) ^ 2)</p>\n",
    "<p><b>DiabetesPedigreeFunction</b>: função de pedigree do diabetes</p>\n",
    "<p><b>Age</b>: idade (anos)</p>\n",
    "<p><b>Outcome</b>: variável de classe (0 ou 1) para diabetes</p>"
   ]
  },
  {
   "cell_type": "code",
   "execution_count": 6,
   "metadata": {},
   "outputs": [
    {
     "data": {
      "text/html": [
       "<div>\n",
       "<style scoped>\n",
       "    .dataframe tbody tr th:only-of-type {\n",
       "        vertical-align: middle;\n",
       "    }\n",
       "\n",
       "    .dataframe tbody tr th {\n",
       "        vertical-align: top;\n",
       "    }\n",
       "\n",
       "    .dataframe thead th {\n",
       "        text-align: right;\n",
       "    }\n",
       "</style>\n",
       "<table border=\"1\" class=\"dataframe\">\n",
       "  <thead>\n",
       "    <tr style=\"text-align: right;\">\n",
       "      <th></th>\n",
       "      <th>Pregnancies</th>\n",
       "      <th>Glucose</th>\n",
       "      <th>BloodPressure</th>\n",
       "      <th>SkinThickness</th>\n",
       "      <th>Insulin</th>\n",
       "      <th>BMI</th>\n",
       "      <th>DiabetesPedigreeFunction</th>\n",
       "      <th>Age</th>\n",
       "      <th>Outcome</th>\n",
       "    </tr>\n",
       "  </thead>\n",
       "  <tbody>\n",
       "    <tr>\n",
       "      <th>Pregnancies</th>\n",
       "      <td>1.000000</td>\n",
       "      <td>0.106651</td>\n",
       "      <td>0.153842</td>\n",
       "      <td>0.020238</td>\n",
       "      <td>0.024915</td>\n",
       "      <td>-0.149254</td>\n",
       "      <td>-0.016200</td>\n",
       "      <td>0.632766</td>\n",
       "      <td>0.144517</td>\n",
       "    </tr>\n",
       "    <tr>\n",
       "      <th>Glucose</th>\n",
       "      <td>0.106651</td>\n",
       "      <td>1.000000</td>\n",
       "      <td>0.180647</td>\n",
       "      <td>0.162918</td>\n",
       "      <td>0.686544</td>\n",
       "      <td>0.158235</td>\n",
       "      <td>0.083975</td>\n",
       "      <td>0.217383</td>\n",
       "      <td>0.480197</td>\n",
       "    </tr>\n",
       "    <tr>\n",
       "      <th>BloodPressure</th>\n",
       "      <td>0.153842</td>\n",
       "      <td>0.180647</td>\n",
       "      <td>1.000000</td>\n",
       "      <td>0.164492</td>\n",
       "      <td>0.088954</td>\n",
       "      <td>0.174816</td>\n",
       "      <td>-0.039403</td>\n",
       "      <td>0.269746</td>\n",
       "      <td>0.048258</td>\n",
       "    </tr>\n",
       "    <tr>\n",
       "      <th>SkinThickness</th>\n",
       "      <td>0.020238</td>\n",
       "      <td>0.162918</td>\n",
       "      <td>0.164492</td>\n",
       "      <td>1.000000</td>\n",
       "      <td>0.189820</td>\n",
       "      <td>0.667521</td>\n",
       "      <td>0.090249</td>\n",
       "      <td>0.215697</td>\n",
       "      <td>0.247850</td>\n",
       "    </tr>\n",
       "    <tr>\n",
       "      <th>Insulin</th>\n",
       "      <td>0.024915</td>\n",
       "      <td>0.686544</td>\n",
       "      <td>0.088954</td>\n",
       "      <td>0.189820</td>\n",
       "      <td>1.000000</td>\n",
       "      <td>0.294094</td>\n",
       "      <td>0.153865</td>\n",
       "      <td>0.134011</td>\n",
       "      <td>0.388614</td>\n",
       "    </tr>\n",
       "    <tr>\n",
       "      <th>BMI</th>\n",
       "      <td>-0.149254</td>\n",
       "      <td>0.158235</td>\n",
       "      <td>0.174816</td>\n",
       "      <td>0.667521</td>\n",
       "      <td>0.294094</td>\n",
       "      <td>1.000000</td>\n",
       "      <td>0.116361</td>\n",
       "      <td>0.077851</td>\n",
       "      <td>0.216644</td>\n",
       "    </tr>\n",
       "    <tr>\n",
       "      <th>DiabetesPedigreeFunction</th>\n",
       "      <td>-0.016200</td>\n",
       "      <td>0.083975</td>\n",
       "      <td>-0.039403</td>\n",
       "      <td>0.090249</td>\n",
       "      <td>0.153865</td>\n",
       "      <td>0.116361</td>\n",
       "      <td>1.000000</td>\n",
       "      <td>0.088955</td>\n",
       "      <td>0.235171</td>\n",
       "    </tr>\n",
       "    <tr>\n",
       "      <th>Age</th>\n",
       "      <td>0.632766</td>\n",
       "      <td>0.217383</td>\n",
       "      <td>0.269746</td>\n",
       "      <td>0.215697</td>\n",
       "      <td>0.134011</td>\n",
       "      <td>0.077851</td>\n",
       "      <td>0.088955</td>\n",
       "      <td>1.000000</td>\n",
       "      <td>0.325426</td>\n",
       "    </tr>\n",
       "    <tr>\n",
       "      <th>Outcome</th>\n",
       "      <td>0.144517</td>\n",
       "      <td>0.480197</td>\n",
       "      <td>0.048258</td>\n",
       "      <td>0.247850</td>\n",
       "      <td>0.388614</td>\n",
       "      <td>0.216644</td>\n",
       "      <td>0.235171</td>\n",
       "      <td>0.325426</td>\n",
       "      <td>1.000000</td>\n",
       "    </tr>\n",
       "  </tbody>\n",
       "</table>\n",
       "</div>"
      ],
      "text/plain": [
       "                          Pregnancies   Glucose  BloodPressure  SkinThickness  \\\n",
       "Pregnancies                  1.000000  0.106651       0.153842       0.020238   \n",
       "Glucose                      0.106651  1.000000       0.180647       0.162918   \n",
       "BloodPressure                0.153842  0.180647       1.000000       0.164492   \n",
       "SkinThickness                0.020238  0.162918       0.164492       1.000000   \n",
       "Insulin                      0.024915  0.686544       0.088954       0.189820   \n",
       "BMI                         -0.149254  0.158235       0.174816       0.667521   \n",
       "DiabetesPedigreeFunction    -0.016200  0.083975      -0.039403       0.090249   \n",
       "Age                          0.632766  0.217383       0.269746       0.215697   \n",
       "Outcome                      0.144517  0.480197       0.048258       0.247850   \n",
       "\n",
       "                           Insulin       BMI  DiabetesPedigreeFunction  \\\n",
       "Pregnancies               0.024915 -0.149254                 -0.016200   \n",
       "Glucose                   0.686544  0.158235                  0.083975   \n",
       "BloodPressure             0.088954  0.174816                 -0.039403   \n",
       "SkinThickness             0.189820  0.667521                  0.090249   \n",
       "Insulin                   1.000000  0.294094                  0.153865   \n",
       "BMI                       0.294094  1.000000                  0.116361   \n",
       "DiabetesPedigreeFunction  0.153865  0.116361                  1.000000   \n",
       "Age                       0.134011  0.077851                  0.088955   \n",
       "Outcome                   0.388614  0.216644                  0.235171   \n",
       "\n",
       "                               Age   Outcome  \n",
       "Pregnancies               0.632766  0.144517  \n",
       "Glucose                   0.217383  0.480197  \n",
       "BloodPressure             0.269746  0.048258  \n",
       "SkinThickness             0.215697  0.247850  \n",
       "Insulin                   0.134011  0.388614  \n",
       "BMI                       0.077851  0.216644  \n",
       "DiabetesPedigreeFunction  0.088955  0.235171  \n",
       "Age                       1.000000  0.325426  \n",
       "Outcome                   0.325426  1.000000  "
      ]
     },
     "execution_count": 6,
     "metadata": {},
     "output_type": "execute_result"
    }
   ],
   "source": [
    "data.dropna().corr(method='spearman')"
   ]
  },
  {
   "cell_type": "code",
   "execution_count": 7,
   "metadata": {
    "scrolled": true
   },
   "outputs": [
    {
     "data": {
      "text/plain": [
       "Pregnancies                   0\n",
       "Glucose                       5\n",
       "BloodPressure                35\n",
       "SkinThickness               227\n",
       "Insulin                     374\n",
       "BMI                          11\n",
       "DiabetesPedigreeFunction      0\n",
       "Age                           0\n",
       "Outcome                       0\n",
       "dtype: int64"
      ]
     },
     "execution_count": 7,
     "metadata": {},
     "output_type": "execute_result"
    }
   ],
   "source": [
    "data.isna().sum()"
   ]
  },
  {
   "cell_type": "code",
   "execution_count": 8,
   "metadata": {},
   "outputs": [],
   "source": [
    "data['BloodPressure'] = data['BloodPressure'].fillna(0)\n",
    "data['Insulin'] = data['Insulin'].fillna(data['Insulin'].mean())\n",
    "data['Glucose'] = data['Glucose'].fillna(data['Glucose'].mean())\n",
    "data['SkinThickness'] = data['SkinThickness'].fillna(data['SkinThickness'].mean())\n",
    "data['BMI'] = data['BMI'].fillna(0)"
   ]
  },
  {
   "cell_type": "code",
   "execution_count": 165,
   "metadata": {},
   "outputs": [
    {
     "name": "stdout",
     "output_type": "stream",
     "text": [
      " - Criando X e y para o algoritmo de aprendizagem a partir do arquivo diabetes_dataset\n"
     ]
    }
   ],
   "source": [
    "#Tratamento de dados faltantes\n",
    "from sklearn.model_selection import train_test_split #testar o modelo\n",
    "from sklearn.impute import SimpleImputer             #tratar os valores NaN no df\n",
    "\n",
    "# Criando X and y par ao algorítmo de aprendizagem de máquina.\\\n",
    "print(' - Criando X e y para o algoritmo de aprendizagem a partir do arquivo diabetes_dataset')\n",
    "# Caso queira modificar as colunas consideradas basta algera o array a seguir.\n",
    "#feature_cols = ['Pregnancies', 'Glucose', 'BloodPressure', 'SkinThickness', \n",
    "#                'Insulin', 'BMI', 'DiabetesPedigreeFunction', 'Age']\n",
    "\n",
    "feature_cols = high_corr_cols\n",
    "\n",
    "X = data[feature_cols]\n",
    "y = data.Outcome\n",
    "\n",
    "# separando os dados em treino e teste\n",
    "X_train,x_test,Y_train,y_test = train_test_split(X,y,test_size=0.1,random_state=0)\n",
    "\n",
    "#imputer aplica o metodo de substituição dos valores NaN no df pelo metodo passado, por default é a média\n",
    "imputer = SimpleImputer()\n",
    "\n",
    "X_train = imputer.fit_transform(X_train,Y_train)\n",
    "x_test = imputer.transform(x_test)"
   ]
  },
  {
   "cell_type": "code",
   "execution_count": 166,
   "metadata": {},
   "outputs": [],
   "source": [
    "# padronizando a escala dos valores\n",
    "\n",
    "from sklearn.preprocessing import StandardScaler\n",
    "scaler = StandardScaler()\n",
    "\n",
    "X_train = scaler.fit_transform(X_train,Y_train)\n",
    "x_test = scaler.transform(x_test)\n",
    "\n",
    "# transformando np arrays em df para facil visualização\n",
    "X_train = pd.DataFrame(X_train,columns=feature_cols)\n",
    "x_test = pd.DataFrame(x_test,columns=feature_cols)"
   ]
  },
  {
   "cell_type": "code",
   "execution_count": 167,
   "metadata": {},
   "outputs": [
    {
     "name": "stdout",
     "output_type": "stream",
     "text": [
      " - Criando modelo preditivo\n"
     ]
    },
    {
     "data": {
      "text/plain": [
       "KNeighborsClassifier(algorithm='auto', leaf_size=30, metric='minkowski',\n",
       "                     metric_params=None, n_jobs=None, n_neighbors=3, p=2,\n",
       "                     weights='uniform')"
      ]
     },
     "execution_count": 167,
     "metadata": {},
     "output_type": "execute_result"
    }
   ],
   "source": [
    "# Ciando o modelo preditivo para a base trabalhada\n",
    "print(' - Criando modelo preditivo')\n",
    "neigh = KNeighborsClassifier(n_neighbors=3)\n",
    "\n",
    "neigh.fit(X_train, Y_train)"
   ]
  },
  {
   "cell_type": "code",
   "execution_count": 168,
   "metadata": {},
   "outputs": [
    {
     "name": "stdout",
     "output_type": "stream",
     "text": [
      " - Aplicando modelo e enviando para o servidor\n"
     ]
    }
   ],
   "source": [
    "print(' - Aplicando modelo e enviando para o servidor')\n",
    "\n",
    "data_app = pd.read_csv('diabetes_app.csv')\n",
    "data_app = scaler.transform(data_app[feature_cols])\n",
    "\n",
    "y_pred = neigh.predict(data_app)"
   ]
  },
  {
   "cell_type": "code",
   "execution_count": 69,
   "metadata": {},
   "outputs": [
    {
     "name": "stdout",
     "output_type": "stream",
     "text": [
      " - Resposta do servidor:\n",
      " {\"status\":\"success\",\"dev_key\":\"Andre Santos\",\"accuracy\":0.5714285714285714,\"old_accuracy\":0} \n",
      "\n"
     ]
    }
   ],
   "source": [
    "# Enviando previsões realizadas com o modelo para o servidor\n",
    "\n",
    "URL = \"https://aydanomachado.com/mlclass/01_Preprocessing.php\"\n",
    "\n",
    "#TODO Substituir pela sua chave aqui\n",
    "DEV_KEY = \"Andre Santos\"\n",
    "\n",
    "# json para ser enviado para o servidor\n",
    "data = {'dev_key':DEV_KEY,\n",
    "        'predictions':pd.Series(y_pred).to_json(orient='values')}\n",
    "\n",
    "# Enviando requisição e salvando o objeto resposta\n",
    "r = requests.post(url = URL, data = data)\n",
    "\n",
    "# Extraindo e imprimindo o texto da resposta\n",
    "pastebin_url = r.text\n",
    "print(\" - Resposta do servidor:\\n\", r.text, \"\\n\")\n",
    "'''"
   ]
  },
  {
   "cell_type": "code",
   "execution_count": null,
   "metadata": {},
   "outputs": [],
   "source": []
  },
  {
   "cell_type": "code",
   "execution_count": null,
   "metadata": {},
   "outputs": [],
   "source": []
  },
  {
   "cell_type": "code",
   "execution_count": null,
   "metadata": {},
   "outputs": [],
   "source": []
  },
  {
   "cell_type": "code",
   "execution_count": null,
   "metadata": {},
   "outputs": [],
   "source": []
  },
  {
   "cell_type": "code",
   "execution_count": null,
   "metadata": {},
   "outputs": [],
   "source": []
  }
 ],
 "metadata": {
  "kernelspec": {
   "display_name": "Python 3",
   "language": "python",
   "name": "python3"
  },
  "language_info": {
   "codemirror_mode": {
    "name": "ipython",
    "version": 3
   },
   "file_extension": ".py",
   "mimetype": "text/x-python",
   "name": "python",
   "nbconvert_exporter": "python",
   "pygments_lexer": "ipython3",
   "version": "3.7.6"
  }
 },
 "nbformat": 4,
 "nbformat_minor": 4
}
