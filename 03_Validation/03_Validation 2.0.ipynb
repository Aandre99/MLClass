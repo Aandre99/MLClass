{
 "cells": [
  {
   "cell_type": "code",
   "execution_count": 15,
   "metadata": {
    "id": "M9iF9p3HTssi"
   },
   "outputs": [],
   "source": [
    "import pandas as pd\n",
    "import numpy as np\n",
    "import matplotlib.pyplot as plt\n",
    "from tqdm import tqdm\n",
    "%matplotlib inline\n",
    "import requests\n",
    "import seaborn as sns"
   ]
  },
  {
   "cell_type": "code",
   "execution_count": 10,
   "metadata": {
    "colab": {
     "base_uri": "https://localhost:8080/"
    },
    "id": "kjDV8NUBT-Dh",
    "outputId": "64c75a0f-3c06-48cb-aa32-1a7999e0a88a"
   },
   "outputs": [
    {
     "name": "stdout",
     "output_type": "stream",
     "text": [
      "C:\\Users\\Andre\\Videos\\mlclass-master\\03_Validation\n"
     ]
    }
   ],
   "source": [
    "cd \"C:\\Users\\Andre\\Videos\\mlclass-master\\03_Validation\""
   ]
  },
  {
   "cell_type": "code",
   "execution_count": 11,
   "metadata": {
    "colab": {
     "base_uri": "https://localhost:8080/"
    },
    "id": "iHxy0QRdT-LU",
    "outputId": "38f26280-cbfb-410d-a867-1b825f846f3d"
   },
   "outputs": [
    {
     "name": "stdout",
     "output_type": "stream",
     "text": [
      " O volume na unidade C ‚ Andre_Santos\n",
      " O N£mero de S‚rie do Volume ‚ 384C-424E\n",
      "\n",
      " Pasta de C:\\Users\\Andre\\Videos\\mlclass-master\\03_Validation\n",
      "\n",
      "13/12/2020  18:40    <DIR>          .\n",
      "13/12/2020  18:40    <DIR>          ..\n",
      "13/12/2020  18:40    <DIR>          .ipynb_checkpoints\n",
      "13/12/2020  18:40            29.517 03_Validation 2.0.ipynb\n",
      "13/12/2020  18:31            36.379 03_Validation.ipynb\n",
      "02/04/2020  16:53            51.833 abalone_app.csv\n",
      "02/04/2020  16:53            46.265 abalone_app.xlsx\n",
      "02/04/2020  16:53           160.978 abalone_dataset.csv\n",
      "02/04/2020  16:53           137.879 abalone_dataset.xlsx\n",
      "02/04/2020  16:53             3.780 README.md\n",
      "               7 arquivo(s)        466.631 bytes\n",
      "               3 pasta(s)   145.853.276.160 bytes dispon¡veis\n"
     ]
    }
   ],
   "source": [
    "ls"
   ]
  },
  {
   "cell_type": "code",
   "execution_count": 20,
   "metadata": {
    "colab": {
     "base_uri": "https://localhost:8080/",
     "height": 204
    },
    "id": "ljTH-mPfT-QT",
    "outputId": "1d846586-f9a0-4094-d73d-b4080cc2be4c"
   },
   "outputs": [
    {
     "data": {
      "text/html": [
       "<div>\n",
       "<style scoped>\n",
       "    .dataframe tbody tr th:only-of-type {\n",
       "        vertical-align: middle;\n",
       "    }\n",
       "\n",
       "    .dataframe tbody tr th {\n",
       "        vertical-align: top;\n",
       "    }\n",
       "\n",
       "    .dataframe thead th {\n",
       "        text-align: right;\n",
       "    }\n",
       "</style>\n",
       "<table border=\"1\" class=\"dataframe\">\n",
       "  <thead>\n",
       "    <tr style=\"text-align: right;\">\n",
       "      <th></th>\n",
       "      <th>sex</th>\n",
       "      <th>length</th>\n",
       "      <th>diameter</th>\n",
       "      <th>height</th>\n",
       "      <th>whole_weight</th>\n",
       "      <th>shucked_weight</th>\n",
       "      <th>viscera_weight</th>\n",
       "      <th>shell_weight</th>\n",
       "      <th>type</th>\n",
       "    </tr>\n",
       "  </thead>\n",
       "  <tbody>\n",
       "    <tr>\n",
       "      <th>0</th>\n",
       "      <td>M</td>\n",
       "      <td>0.535</td>\n",
       "      <td>0.420</td>\n",
       "      <td>0.150</td>\n",
       "      <td>0.6995</td>\n",
       "      <td>0.2575</td>\n",
       "      <td>0.1530</td>\n",
       "      <td>0.2400</td>\n",
       "      <td>3</td>\n",
       "    </tr>\n",
       "    <tr>\n",
       "      <th>1</th>\n",
       "      <td>I</td>\n",
       "      <td>0.510</td>\n",
       "      <td>0.380</td>\n",
       "      <td>0.115</td>\n",
       "      <td>0.5155</td>\n",
       "      <td>0.2150</td>\n",
       "      <td>0.1135</td>\n",
       "      <td>0.1660</td>\n",
       "      <td>1</td>\n",
       "    </tr>\n",
       "    <tr>\n",
       "      <th>2</th>\n",
       "      <td>I</td>\n",
       "      <td>0.185</td>\n",
       "      <td>0.130</td>\n",
       "      <td>0.045</td>\n",
       "      <td>0.0290</td>\n",
       "      <td>0.0120</td>\n",
       "      <td>0.0075</td>\n",
       "      <td>0.0095</td>\n",
       "      <td>1</td>\n",
       "    </tr>\n",
       "    <tr>\n",
       "      <th>3</th>\n",
       "      <td>M</td>\n",
       "      <td>0.550</td>\n",
       "      <td>0.450</td>\n",
       "      <td>0.170</td>\n",
       "      <td>0.8100</td>\n",
       "      <td>0.3170</td>\n",
       "      <td>0.1570</td>\n",
       "      <td>0.2200</td>\n",
       "      <td>3</td>\n",
       "    </tr>\n",
       "    <tr>\n",
       "      <th>4</th>\n",
       "      <td>I</td>\n",
       "      <td>0.535</td>\n",
       "      <td>0.415</td>\n",
       "      <td>0.150</td>\n",
       "      <td>0.5765</td>\n",
       "      <td>0.3595</td>\n",
       "      <td>0.1350</td>\n",
       "      <td>0.2250</td>\n",
       "      <td>1</td>\n",
       "    </tr>\n",
       "  </tbody>\n",
       "</table>\n",
       "</div>"
      ],
      "text/plain": [
       "  sex  length  diameter  height  whole_weight  shucked_weight  viscera_weight  \\\n",
       "0   M   0.535     0.420   0.150        0.6995          0.2575          0.1530   \n",
       "1   I   0.510     0.380   0.115        0.5155          0.2150          0.1135   \n",
       "2   I   0.185     0.130   0.045        0.0290          0.0120          0.0075   \n",
       "3   M   0.550     0.450   0.170        0.8100          0.3170          0.1570   \n",
       "4   I   0.535     0.415   0.150        0.5765          0.3595          0.1350   \n",
       "\n",
       "   shell_weight  type  \n",
       "0        0.2400     3  \n",
       "1        0.1660     1  \n",
       "2        0.0095     1  \n",
       "3        0.2200     3  \n",
       "4        0.2250     1  "
      ]
     },
     "execution_count": 20,
     "metadata": {},
     "output_type": "execute_result"
    }
   ],
   "source": [
    "data = pd.read_csv('abalone_dataset.csv')\n",
    "data.head()"
   ]
  },
  {
   "cell_type": "code",
   "execution_count": 21,
   "metadata": {},
   "outputs": [
    {
     "data": {
      "text/html": [
       "<div>\n",
       "<style scoped>\n",
       "    .dataframe tbody tr th:only-of-type {\n",
       "        vertical-align: middle;\n",
       "    }\n",
       "\n",
       "    .dataframe tbody tr th {\n",
       "        vertical-align: top;\n",
       "    }\n",
       "\n",
       "    .dataframe thead th {\n",
       "        text-align: right;\n",
       "    }\n",
       "</style>\n",
       "<table border=\"1\" class=\"dataframe\">\n",
       "  <thead>\n",
       "    <tr style=\"text-align: right;\">\n",
       "      <th></th>\n",
       "      <th>sex</th>\n",
       "      <th>length</th>\n",
       "      <th>diameter</th>\n",
       "      <th>height</th>\n",
       "      <th>whole_weight</th>\n",
       "      <th>shucked_weight</th>\n",
       "      <th>viscera_weight</th>\n",
       "      <th>shell_weight</th>\n",
       "      <th>type</th>\n",
       "    </tr>\n",
       "  </thead>\n",
       "  <tbody>\n",
       "    <tr>\n",
       "      <th>0</th>\n",
       "      <td>2</td>\n",
       "      <td>0.535</td>\n",
       "      <td>0.42</td>\n",
       "      <td>0.150</td>\n",
       "      <td>0.6995</td>\n",
       "      <td>0.2575</td>\n",
       "      <td>0.1530</td>\n",
       "      <td>0.2400</td>\n",
       "      <td>3</td>\n",
       "    </tr>\n",
       "    <tr>\n",
       "      <th>1</th>\n",
       "      <td>1</td>\n",
       "      <td>0.510</td>\n",
       "      <td>0.38</td>\n",
       "      <td>0.115</td>\n",
       "      <td>0.5155</td>\n",
       "      <td>0.2150</td>\n",
       "      <td>0.1135</td>\n",
       "      <td>0.1660</td>\n",
       "      <td>1</td>\n",
       "    </tr>\n",
       "    <tr>\n",
       "      <th>2</th>\n",
       "      <td>1</td>\n",
       "      <td>0.185</td>\n",
       "      <td>0.13</td>\n",
       "      <td>0.045</td>\n",
       "      <td>0.0290</td>\n",
       "      <td>0.0120</td>\n",
       "      <td>0.0075</td>\n",
       "      <td>0.0095</td>\n",
       "      <td>1</td>\n",
       "    </tr>\n",
       "  </tbody>\n",
       "</table>\n",
       "</div>"
      ],
      "text/plain": [
       "   sex  length  diameter  height  whole_weight  shucked_weight  \\\n",
       "0    2   0.535      0.42   0.150        0.6995          0.2575   \n",
       "1    1   0.510      0.38   0.115        0.5155          0.2150   \n",
       "2    1   0.185      0.13   0.045        0.0290          0.0120   \n",
       "\n",
       "   viscera_weight  shell_weight  type  \n",
       "0          0.1530        0.2400     3  \n",
       "1          0.1135        0.1660     1  \n",
       "2          0.0075        0.0095     1  "
      ]
     },
     "execution_count": 21,
     "metadata": {},
     "output_type": "execute_result"
    }
   ],
   "source": [
    "from sklearn.preprocessing import LabelEncoder\n",
    "\n",
    "encoder = LabelEncoder()\n",
    "new_sex = encoder.fit_transform(data.sex)\n",
    "\n",
    "data_with_encoded_sex = data.copy()\n",
    "data_with_encoded_sex['sex'] = new_sex\n",
    "data_with_encoded_sex.head(3)"
   ]
  },
  {
   "cell_type": "markdown",
   "metadata": {},
   "source": [
    "<h1>Correlation between variables </h1>\n",
    "</br>\n",
    "Deleted variables: sex (low correlation), whole_weight,viscera_weight (high correlation with <strong>shell_weight</strong>)"
   ]
  },
  {
   "cell_type": "code",
   "execution_count": 22,
   "metadata": {},
   "outputs": [
    {
     "data": {
      "text/html": [
       "<div>\n",
       "<style scoped>\n",
       "    .dataframe tbody tr th:only-of-type {\n",
       "        vertical-align: middle;\n",
       "    }\n",
       "\n",
       "    .dataframe tbody tr th {\n",
       "        vertical-align: top;\n",
       "    }\n",
       "\n",
       "    .dataframe thead th {\n",
       "        text-align: right;\n",
       "    }\n",
       "</style>\n",
       "<table border=\"1\" class=\"dataframe\">\n",
       "  <thead>\n",
       "    <tr style=\"text-align: right;\">\n",
       "      <th></th>\n",
       "      <th>sex</th>\n",
       "      <th>length</th>\n",
       "      <th>diameter</th>\n",
       "      <th>height</th>\n",
       "      <th>whole_weight</th>\n",
       "      <th>shucked_weight</th>\n",
       "      <th>viscera_weight</th>\n",
       "      <th>shell_weight</th>\n",
       "      <th>type</th>\n",
       "    </tr>\n",
       "  </thead>\n",
       "  <tbody>\n",
       "    <tr>\n",
       "      <th>sex</th>\n",
       "      <td>1.000000</td>\n",
       "      <td>-0.026521</td>\n",
       "      <td>-0.029353</td>\n",
       "      <td>-0.030344</td>\n",
       "      <td>-0.009325</td>\n",
       "      <td>0.012464</td>\n",
       "      <td>-0.018009</td>\n",
       "      <td>-0.023907</td>\n",
       "      <td>-0.040599</td>\n",
       "    </tr>\n",
       "    <tr>\n",
       "      <th>length</th>\n",
       "      <td>-0.026521</td>\n",
       "      <td>1.000000</td>\n",
       "      <td>0.987063</td>\n",
       "      <td>0.891287</td>\n",
       "      <td>0.924125</td>\n",
       "      <td>0.895178</td>\n",
       "      <td>0.901025</td>\n",
       "      <td>0.895045</td>\n",
       "      <td>0.582482</td>\n",
       "    </tr>\n",
       "    <tr>\n",
       "      <th>diameter</th>\n",
       "      <td>-0.029353</td>\n",
       "      <td>0.987063</td>\n",
       "      <td>1.000000</td>\n",
       "      <td>0.898236</td>\n",
       "      <td>0.925135</td>\n",
       "      <td>0.891759</td>\n",
       "      <td>0.898265</td>\n",
       "      <td>0.902889</td>\n",
       "      <td>0.597654</td>\n",
       "    </tr>\n",
       "    <tr>\n",
       "      <th>height</th>\n",
       "      <td>-0.030344</td>\n",
       "      <td>0.891287</td>\n",
       "      <td>0.898236</td>\n",
       "      <td>1.000000</td>\n",
       "      <td>0.883098</td>\n",
       "      <td>0.832339</td>\n",
       "      <td>0.859120</td>\n",
       "      <td>0.880513</td>\n",
       "      <td>0.607524</td>\n",
       "    </tr>\n",
       "    <tr>\n",
       "      <th>whole_weight</th>\n",
       "      <td>-0.009325</td>\n",
       "      <td>0.924125</td>\n",
       "      <td>0.925135</td>\n",
       "      <td>0.883098</td>\n",
       "      <td>1.000000</td>\n",
       "      <td>0.969027</td>\n",
       "      <td>0.966725</td>\n",
       "      <td>0.954062</td>\n",
       "      <td>0.580626</td>\n",
       "    </tr>\n",
       "    <tr>\n",
       "      <th>shucked_weight</th>\n",
       "      <td>0.012464</td>\n",
       "      <td>0.895178</td>\n",
       "      <td>0.891759</td>\n",
       "      <td>0.832339</td>\n",
       "      <td>0.969027</td>\n",
       "      <td>1.000000</td>\n",
       "      <td>0.930324</td>\n",
       "      <td>0.879352</td>\n",
       "      <td>0.491211</td>\n",
       "    </tr>\n",
       "    <tr>\n",
       "      <th>viscera_weight</th>\n",
       "      <td>-0.018009</td>\n",
       "      <td>0.901025</td>\n",
       "      <td>0.898265</td>\n",
       "      <td>0.859120</td>\n",
       "      <td>0.966725</td>\n",
       "      <td>0.930324</td>\n",
       "      <td>1.000000</td>\n",
       "      <td>0.905025</td>\n",
       "      <td>0.564292</td>\n",
       "    </tr>\n",
       "    <tr>\n",
       "      <th>shell_weight</th>\n",
       "      <td>-0.023907</td>\n",
       "      <td>0.895045</td>\n",
       "      <td>0.902889</td>\n",
       "      <td>0.880513</td>\n",
       "      <td>0.954062</td>\n",
       "      <td>0.879352</td>\n",
       "      <td>0.905025</td>\n",
       "      <td>1.000000</td>\n",
       "      <td>0.630489</td>\n",
       "    </tr>\n",
       "    <tr>\n",
       "      <th>type</th>\n",
       "      <td>-0.040599</td>\n",
       "      <td>0.582482</td>\n",
       "      <td>0.597654</td>\n",
       "      <td>0.607524</td>\n",
       "      <td>0.580626</td>\n",
       "      <td>0.491211</td>\n",
       "      <td>0.564292</td>\n",
       "      <td>0.630489</td>\n",
       "      <td>1.000000</td>\n",
       "    </tr>\n",
       "  </tbody>\n",
       "</table>\n",
       "</div>"
      ],
      "text/plain": [
       "                     sex    length  diameter    height  whole_weight  \\\n",
       "sex             1.000000 -0.026521 -0.029353 -0.030344     -0.009325   \n",
       "length         -0.026521  1.000000  0.987063  0.891287      0.924125   \n",
       "diameter       -0.029353  0.987063  1.000000  0.898236      0.925135   \n",
       "height         -0.030344  0.891287  0.898236  1.000000      0.883098   \n",
       "whole_weight   -0.009325  0.924125  0.925135  0.883098      1.000000   \n",
       "shucked_weight  0.012464  0.895178  0.891759  0.832339      0.969027   \n",
       "viscera_weight -0.018009  0.901025  0.898265  0.859120      0.966725   \n",
       "shell_weight   -0.023907  0.895045  0.902889  0.880513      0.954062   \n",
       "type           -0.040599  0.582482  0.597654  0.607524      0.580626   \n",
       "\n",
       "                shucked_weight  viscera_weight  shell_weight      type  \n",
       "sex                   0.012464       -0.018009     -0.023907 -0.040599  \n",
       "length                0.895178        0.901025      0.895045  0.582482  \n",
       "diameter              0.891759        0.898265      0.902889  0.597654  \n",
       "height                0.832339        0.859120      0.880513  0.607524  \n",
       "whole_weight          0.969027        0.966725      0.954062  0.580626  \n",
       "shucked_weight        1.000000        0.930324      0.879352  0.491211  \n",
       "viscera_weight        0.930324        1.000000      0.905025  0.564292  \n",
       "shell_weight          0.879352        0.905025      1.000000  0.630489  \n",
       "type                  0.491211        0.564292      0.630489  1.000000  "
      ]
     },
     "execution_count": 22,
     "metadata": {},
     "output_type": "execute_result"
    }
   ],
   "source": [
    "data_with_encoded_sex.corr()"
   ]
  },
  {
   "cell_type": "markdown",
   "metadata": {},
   "source": [
    "<h1> Features Selection </h1>"
   ]
  },
  {
   "cell_type": "code",
   "execution_count": 25,
   "metadata": {},
   "outputs": [
    {
     "data": {
      "text/html": [
       "<div>\n",
       "<style scoped>\n",
       "    .dataframe tbody tr th:only-of-type {\n",
       "        vertical-align: middle;\n",
       "    }\n",
       "\n",
       "    .dataframe tbody tr th {\n",
       "        vertical-align: top;\n",
       "    }\n",
       "\n",
       "    .dataframe thead th {\n",
       "        text-align: right;\n",
       "    }\n",
       "</style>\n",
       "<table border=\"1\" class=\"dataframe\">\n",
       "  <thead>\n",
       "    <tr style=\"text-align: right;\">\n",
       "      <th></th>\n",
       "      <th>length</th>\n",
       "      <th>diameter</th>\n",
       "      <th>height</th>\n",
       "      <th>shucked_weight</th>\n",
       "      <th>shell_weight</th>\n",
       "      <th>type</th>\n",
       "    </tr>\n",
       "  </thead>\n",
       "  <tbody>\n",
       "    <tr>\n",
       "      <th>0</th>\n",
       "      <td>0.535</td>\n",
       "      <td>0.420</td>\n",
       "      <td>0.150</td>\n",
       "      <td>0.2575</td>\n",
       "      <td>0.2400</td>\n",
       "      <td>3</td>\n",
       "    </tr>\n",
       "    <tr>\n",
       "      <th>1</th>\n",
       "      <td>0.510</td>\n",
       "      <td>0.380</td>\n",
       "      <td>0.115</td>\n",
       "      <td>0.2150</td>\n",
       "      <td>0.1660</td>\n",
       "      <td>1</td>\n",
       "    </tr>\n",
       "    <tr>\n",
       "      <th>2</th>\n",
       "      <td>0.185</td>\n",
       "      <td>0.130</td>\n",
       "      <td>0.045</td>\n",
       "      <td>0.0120</td>\n",
       "      <td>0.0095</td>\n",
       "      <td>1</td>\n",
       "    </tr>\n",
       "    <tr>\n",
       "      <th>3</th>\n",
       "      <td>0.550</td>\n",
       "      <td>0.450</td>\n",
       "      <td>0.170</td>\n",
       "      <td>0.3170</td>\n",
       "      <td>0.2200</td>\n",
       "      <td>3</td>\n",
       "    </tr>\n",
       "    <tr>\n",
       "      <th>4</th>\n",
       "      <td>0.535</td>\n",
       "      <td>0.415</td>\n",
       "      <td>0.150</td>\n",
       "      <td>0.3595</td>\n",
       "      <td>0.2250</td>\n",
       "      <td>1</td>\n",
       "    </tr>\n",
       "  </tbody>\n",
       "</table>\n",
       "</div>"
      ],
      "text/plain": [
       "   length  diameter  height  shucked_weight  shell_weight  type\n",
       "0   0.535     0.420   0.150          0.2575        0.2400     3\n",
       "1   0.510     0.380   0.115          0.2150        0.1660     1\n",
       "2   0.185     0.130   0.045          0.0120        0.0095     1\n",
       "3   0.550     0.450   0.170          0.3170        0.2200     3\n",
       "4   0.535     0.415   0.150          0.3595        0.2250     1"
      ]
     },
     "execution_count": 25,
     "metadata": {},
     "output_type": "execute_result"
    }
   ],
   "source": [
    "cols = ['length','diameter','height','shucked_weight','shell_weight','type']\n",
    "data = data[cols]\n",
    "data.head(5)"
   ]
  },
  {
   "cell_type": "code",
   "execution_count": 26,
   "metadata": {
    "colab": {
     "base_uri": "https://localhost:8080/"
    },
    "id": "RCX9z-urZupY",
    "outputId": "2a46ec6d-7939-43d0-f37c-c1cecc7e6c91"
   },
   "outputs": [
    {
     "data": {
      "text/plain": [
       "1    1078\n",
       "3    1051\n",
       "2    1003\n",
       "Name: type, dtype: int64"
      ]
     },
     "execution_count": 26,
     "metadata": {},
     "output_type": "execute_result"
    }
   ],
   "source": [
    "data.type.value_counts()"
   ]
  },
  {
   "cell_type": "markdown",
   "metadata": {
    "id": "Cl1omsHZepfo"
   },
   "source": [
    "<h1>Data split</h1>"
   ]
  },
  {
   "cell_type": "code",
   "execution_count": 27,
   "metadata": {
    "colab": {
     "base_uri": "https://localhost:8080/"
    },
    "id": "BvuxbW30X2jA",
    "outputId": "d90f747c-479c-49e6-d72a-f1c7cad3405b"
   },
   "outputs": [
    {
     "name": "stdout",
     "output_type": "stream",
     "text": [
      "(2505, 5) (627, 5)\n",
      "(2505,) (627,)\n"
     ]
    }
   ],
   "source": [
    "from sklearn.model_selection import train_test_split\n",
    "\n",
    "x_train,x_test,y_train,y_test = train_test_split(data.drop('type',axis=1),data.type,test_size=0.2,random_state=42)\n",
    "print(x_train.shape,x_test.shape)\n",
    "print(y_train.shape,y_test.shape)"
   ]
  },
  {
   "cell_type": "markdown",
   "metadata": {
    "id": "sGPvA452ZKEM"
   },
   "source": [
    "<h1>Hyperparameters Selection</h1>"
   ]
  },
  {
   "cell_type": "code",
   "execution_count": 47,
   "metadata": {
    "id": "_uGAFnlYhH8U"
   },
   "outputs": [],
   "source": [
    "from sklearn.neighbors import KNeighborsClassifier\n",
    "\n",
    "def get_neighbors(n):\n",
    "  neighbor = []\n",
    "\n",
    "  neighbor.append(n+2)\n",
    "  neighbor.append(1 if n-2 < 1 else n-2)\n",
    "  neighbor.append(n+1)\n",
    "  neighbor.append(1 if n-1 < 1 else n-1)\n",
    "  neighbor.append(np.random.randint(10,100))\n",
    "\n",
    "  return neighbor\n",
    "\n",
    "def hill_climbing(n,iter):\n",
    "\n",
    "  best_score = 0\n",
    "  best_n = n\n",
    "\n",
    "  for i in tqdm(range(iter)):\n",
    "    for _n in get_neighbors(n):\n",
    "\n",
    "      knn = KNeighborsClassifier(n_neighbors=_n)\n",
    "      knn.fit(x_train,y_train)\n",
    "      current_score = knn.score(x_test,y_test)\n",
    "    \n",
    "      if best_score < current_score:\n",
    "        best_score = current_score\n",
    "        best_n = _n\n",
    "\n",
    "    n = best_n\n",
    "\n",
    "  return best_n,best_score"
   ]
  },
  {
   "cell_type": "code",
   "execution_count": null,
   "metadata": {
    "colab": {
     "base_uri": "https://localhost:8080/"
    },
    "id": "uAdMLzKVjsYn",
    "outputId": "5c5caf5a-540c-4408-c0fe-5de30ce4a5b8"
   },
   "outputs": [],
   "source": [
    "_n = np.random.randint(1,5)\n",
    "n,score = hill_climbing(_n,100)"
   ]
  },
  {
   "cell_type": "code",
   "execution_count": 50,
   "metadata": {
    "colab": {
     "base_uri": "https://localhost:8080/"
    },
    "id": "A6LcYcMAio3_",
    "outputId": "426d77cb-4e77-46b5-ab3e-d59df9419aed"
   },
   "outputs": [
    {
     "name": "stdout",
     "output_type": "stream",
     "text": [
      "Best_n = 93, Best_score= 0.6539074960127592\n"
     ]
    }
   ],
   "source": [
    "print('Best_n = {}, Best_score= {}'.format(n,score))"
   ]
  },
  {
   "cell_type": "markdown",
   "metadata": {
    "id": "-FQ1H1lecUFe"
   },
   "source": [
    "<h1>Define Model</h1>"
   ]
  },
  {
   "cell_type": "code",
   "execution_count": 51,
   "metadata": {
    "colab": {
     "base_uri": "https://localhost:8080/"
    },
    "id": "NrTGkF6vZOol",
    "outputId": "be5860c2-d5d8-42fa-d3c9-e91a78196620"
   },
   "outputs": [
    {
     "data": {
      "text/plain": [
       "KNeighborsClassifier(algorithm='auto', leaf_size=30, metric='minkowski',\n",
       "                     metric_params=None, n_jobs=None, n_neighbors=93, p=2,\n",
       "                     weights='uniform')"
      ]
     },
     "execution_count": 51,
     "metadata": {},
     "output_type": "execute_result"
    }
   ],
   "source": [
    "from sklearn.model_selection import cross_val_score\n",
    "from sklearn.neighbors import KNeighborsClassifier\n",
    "\n",
    "\n",
    "#rfc = RandomForestClassifier(n_estimators=7,max_depth=8)\n",
    "#rfc.fit(x_train,y_train)\n",
    "\n",
    "knn = KNeighborsClassifier(n_neighbors=93)\n",
    "knn.fit(x_train,y_train)"
   ]
  },
  {
   "cell_type": "markdown",
   "metadata": {
    "id": "HcP2PfuEYiTO"
   },
   "source": [
    "<h1>Model Valitation</h1>"
   ]
  },
  {
   "cell_type": "code",
   "execution_count": 52,
   "metadata": {
    "colab": {
     "base_uri": "https://localhost:8080/"
    },
    "id": "Bkhn88nsUJiF",
    "outputId": "4bb3600e-366e-4caa-f213-0f0e5f0809da"
   },
   "outputs": [
    {
     "data": {
      "text/plain": [
       "0.6539074960127592"
      ]
     },
     "execution_count": 52,
     "metadata": {},
     "output_type": "execute_result"
    }
   ],
   "source": [
    "knn.score(x_test,y_test)"
   ]
  },
  {
   "cell_type": "markdown",
   "metadata": {
    "id": "pAV88kfAsjWt"
   },
   "source": [
    "<h1>Model Predict</h1>"
   ]
  },
  {
   "cell_type": "code",
   "execution_count": 55,
   "metadata": {
    "colab": {
     "base_uri": "https://localhost:8080/",
     "height": 204
    },
    "id": "2vRFWAMpsNdE",
    "outputId": "a6b4b346-97ea-451a-8e00-dd702f27ccaf"
   },
   "outputs": [
    {
     "data": {
      "text/html": [
       "<div>\n",
       "<style scoped>\n",
       "    .dataframe tbody tr th:only-of-type {\n",
       "        vertical-align: middle;\n",
       "    }\n",
       "\n",
       "    .dataframe tbody tr th {\n",
       "        vertical-align: top;\n",
       "    }\n",
       "\n",
       "    .dataframe thead th {\n",
       "        text-align: right;\n",
       "    }\n",
       "</style>\n",
       "<table border=\"1\" class=\"dataframe\">\n",
       "  <thead>\n",
       "    <tr style=\"text-align: right;\">\n",
       "      <th></th>\n",
       "      <th>length</th>\n",
       "      <th>diameter</th>\n",
       "      <th>height</th>\n",
       "      <th>shucked_weight</th>\n",
       "      <th>shell_weight</th>\n",
       "    </tr>\n",
       "  </thead>\n",
       "  <tbody>\n",
       "    <tr>\n",
       "      <th>0</th>\n",
       "      <td>0.600</td>\n",
       "      <td>0.480</td>\n",
       "      <td>0.175</td>\n",
       "      <td>0.4125</td>\n",
       "      <td>0.4150</td>\n",
       "    </tr>\n",
       "    <tr>\n",
       "      <th>1</th>\n",
       "      <td>0.545</td>\n",
       "      <td>0.385</td>\n",
       "      <td>0.150</td>\n",
       "      <td>0.5425</td>\n",
       "      <td>0.2845</td>\n",
       "    </tr>\n",
       "    <tr>\n",
       "      <th>2</th>\n",
       "      <td>0.645</td>\n",
       "      <td>0.520</td>\n",
       "      <td>0.180</td>\n",
       "      <td>0.5775</td>\n",
       "      <td>0.3170</td>\n",
       "    </tr>\n",
       "    <tr>\n",
       "      <th>3</th>\n",
       "      <td>0.640</td>\n",
       "      <td>0.510</td>\n",
       "      <td>0.170</td>\n",
       "      <td>0.5670</td>\n",
       "      <td>0.4090</td>\n",
       "    </tr>\n",
       "    <tr>\n",
       "      <th>4</th>\n",
       "      <td>0.655</td>\n",
       "      <td>0.540</td>\n",
       "      <td>0.215</td>\n",
       "      <td>0.6950</td>\n",
       "      <td>0.4440</td>\n",
       "    </tr>\n",
       "  </tbody>\n",
       "</table>\n",
       "</div>"
      ],
      "text/plain": [
       "   length  diameter  height  shucked_weight  shell_weight\n",
       "0   0.600     0.480   0.175          0.4125        0.4150\n",
       "1   0.545     0.385   0.150          0.5425        0.2845\n",
       "2   0.645     0.520   0.180          0.5775        0.3170\n",
       "3   0.640     0.510   0.170          0.5670        0.4090\n",
       "4   0.655     0.540   0.215          0.6950        0.4440"
      ]
     },
     "execution_count": 55,
     "metadata": {},
     "output_type": "execute_result"
    }
   ],
   "source": [
    "cols_test = ['length','diameter','height','shucked_weight','shell_weight']\n",
    "data_test = pd.read_csv('abalone_app.csv')\n",
    "data_test = data_test[cols_test]\n",
    "data_test.head(5)"
   ]
  },
  {
   "cell_type": "code",
   "execution_count": 57,
   "metadata": {
    "colab": {
     "base_uri": "https://localhost:8080/"
    },
    "id": "yIbVLiUwtWd-",
    "outputId": "ebdefc0a-64b8-4a67-ddb7-fd3cb3cb2180"
   },
   "outputs": [
    {
     "data": {
      "text/plain": [
       "array([3, 2, 2, ..., 3, 1, 2], dtype=int64)"
      ]
     },
     "execution_count": 57,
     "metadata": {},
     "output_type": "execute_result"
    }
   ],
   "source": [
    "y_pred = knn.predict(data_test)\n",
    "y_pred"
   ]
  },
  {
   "cell_type": "code",
   "execution_count": 63,
   "metadata": {},
   "outputs": [],
   "source": [
    "np.savetxt('y_pred.txt', y_pred)"
   ]
  },
  {
   "cell_type": "markdown",
   "metadata": {
    "id": "owRaoRPsr-34"
   },
   "source": [
    "<h1>Submit predicted values</h1>"
   ]
  },
  {
   "cell_type": "code",
   "execution_count": 58,
   "metadata": {
    "colab": {
     "base_uri": "https://localhost:8080/"
    },
    "id": "jq5fSkTScRBS",
    "outputId": "228aa77a-464b-4ffc-999f-6c96b7881cdc"
   },
   "outputs": [
    {
     "name": "stdout",
     "output_type": "stream",
     "text": [
      " - Resposta do servidor:\n",
      " {\"status\":\"success\",\"dev_key\":\"Andre Santos\",\"accuracy\":0.6478468899521531,\"old_accuracy\":0.61913875598086} \n",
      "\n"
     ]
    }
   ],
   "source": [
    "# Enviando previsões realizadas com o modelo para o servidor\n",
    "URL = 'https://aydanomachado.com/mlclass/03_Validation.php'\n",
    "\n",
    "#TODO Substituir pela sua chave aqui\n",
    "DEV_KEY = \"Andre Santos\"\n",
    "\n",
    "# json para ser enviado para o servidor\n",
    "data = {'dev_key':DEV_KEY,\n",
    "        'predictions':pd.Series(y_pred).to_json(orient='values')}\n",
    "\n",
    "# Enviando requisição e salvando o objeto resposta\n",
    "r = requests.post(url = URL, data = data)\n",
    "\n",
    "# Extraindo e imprimindo o texto da resposta\n",
    "pastebin_url = r.text\n",
    "print(\" - Resposta do servidor:\\n\", r.text, \"\\n\")"
   ]
  }
 ],
 "metadata": {
  "colab": {
   "collapsed_sections": [],
   "name": "03_Validation.ipynb",
   "provenance": []
  },
  "kernelspec": {
   "display_name": "Python 3",
   "language": "python",
   "name": "python3"
  },
  "language_info": {
   "codemirror_mode": {
    "name": "ipython",
    "version": 3
   },
   "file_extension": ".py",
   "mimetype": "text/x-python",
   "name": "python",
   "nbconvert_exporter": "python",
   "pygments_lexer": "ipython3",
   "version": "3.7.6"
  }
 },
 "nbformat": 4,
 "nbformat_minor": 1
}
