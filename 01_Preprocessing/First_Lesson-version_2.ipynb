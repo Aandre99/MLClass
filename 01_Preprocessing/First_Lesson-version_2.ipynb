{
 "cells": [
  {
   "cell_type": "code",
   "execution_count": 1,
   "metadata": {},
   "outputs": [],
   "source": [
    "#!/usr/bin/env python3\n",
    "# -*- coding: utf-8 -*-\n",
    "\"\"\"\n",
    "Atividade para trabalhar o pré-processamento dos dados.\n",
    "\n",
    "Criação de modelo preditivo para diabetes e envio para verificação de peformance\n",
    "no servidor.\n",
    "\n",
    "@author: Aydano Machado <aydano.machado@gmail.com>\n",
    "\"\"\"\n",
    "\n",
    "import pandas as pd\n",
    "from sklearn.neighbors import KNeighborsClassifier\n",
    "import requests"
   ]
  },
  {
   "cell_type": "code",
   "execution_count": 2,
   "metadata": {},
   "outputs": [
    {
     "name": "stdout",
     "output_type": "stream",
     "text": [
      "\n",
      " - Lendo o arquivo com o dataset sobre diabetes\n"
     ]
    }
   ],
   "source": [
    "print('\\n - Lendo o arquivo com o dataset sobre diabetes')\n",
    "data = pd.read_csv('diabetes_dataset.csv')"
   ]
  },
  {
   "cell_type": "markdown",
   "metadata": {},
   "source": [
    "<h1>Atributos do dataset:</h1>\n",
    "<p><b>Pregnancies</b>: número de vezes grávida</p>\n",
    "<p><b>Glucose</b>: concentração plasmática de glicose a 2 horas em um teste oral de tolerância à glicose</p>\n",
    "<p><b>BloodPressure</b>: pressão arterial diastólica (mm Hg)</p>\n",
    "<p><b>SkinThickness</b>: espessura da dobra da pele do tríceps (mm)</p>\n",
    "<p><b>Insulin</b>: insulina sérica de 2 horas (mu U/ml)</p>\n",
    "<p><b>BMI</b>: índice de massa corporal (peso em kg / (altura em m) ^ 2)</p>\n",
    "<p><b>DiabetesPedigreeFunction</b>: função de pedigree do diabetes</p>\n",
    "<p><b>Age</b>: idade (anos)</p>\n",
    "<p><b>Outcome</b>: variável de classe (0 ou 1) para diabetes</p>"
   ]
  },
  {
   "cell_type": "code",
   "execution_count": 111,
   "metadata": {},
   "outputs": [],
   "source": [
    "cols = [\n",
    " 'Glucose',\n",
    " 'Insulin',\n",
    " 'Age']"
   ]
  },
  {
   "cell_type": "code",
   "execution_count": 3,
   "metadata": {},
   "outputs": [
    {
     "data": {
      "text/html": [
       "<div>\n",
       "<style scoped>\n",
       "    .dataframe tbody tr th:only-of-type {\n",
       "        vertical-align: middle;\n",
       "    }\n",
       "\n",
       "    .dataframe tbody tr th {\n",
       "        vertical-align: top;\n",
       "    }\n",
       "\n",
       "    .dataframe thead th {\n",
       "        text-align: right;\n",
       "    }\n",
       "</style>\n",
       "<table border=\"1\" class=\"dataframe\">\n",
       "  <thead>\n",
       "    <tr style=\"text-align: right;\">\n",
       "      <th></th>\n",
       "      <th>Pregnancies</th>\n",
       "      <th>Glucose</th>\n",
       "      <th>BloodPressure</th>\n",
       "      <th>SkinThickness</th>\n",
       "      <th>Insulin</th>\n",
       "      <th>BMI</th>\n",
       "      <th>DiabetesPedigreeFunction</th>\n",
       "      <th>Age</th>\n",
       "      <th>Outcome</th>\n",
       "    </tr>\n",
       "  </thead>\n",
       "  <tbody>\n",
       "    <tr>\n",
       "      <th>Pregnancies</th>\n",
       "      <td>1.000000</td>\n",
       "      <td>0.075334</td>\n",
       "      <td>0.189058</td>\n",
       "      <td>0.082360</td>\n",
       "      <td>0.037557</td>\n",
       "      <td>-0.003140</td>\n",
       "      <td>-0.046298</td>\n",
       "      <td>0.583523</td>\n",
       "      <td>0.172776</td>\n",
       "    </tr>\n",
       "    <tr>\n",
       "      <th>Glucose</th>\n",
       "      <td>0.075334</td>\n",
       "      <td>1.000000</td>\n",
       "      <td>0.232266</td>\n",
       "      <td>0.206046</td>\n",
       "      <td>0.686334</td>\n",
       "      <td>0.226564</td>\n",
       "      <td>0.091681</td>\n",
       "      <td>0.215671</td>\n",
       "      <td>0.469662</td>\n",
       "    </tr>\n",
       "    <tr>\n",
       "      <th>BloodPressure</th>\n",
       "      <td>0.189058</td>\n",
       "      <td>0.232266</td>\n",
       "      <td>1.000000</td>\n",
       "      <td>0.192117</td>\n",
       "      <td>0.087237</td>\n",
       "      <td>0.247141</td>\n",
       "      <td>0.033308</td>\n",
       "      <td>0.356888</td>\n",
       "      <td>0.110650</td>\n",
       "    </tr>\n",
       "    <tr>\n",
       "      <th>SkinThickness</th>\n",
       "      <td>0.082360</td>\n",
       "      <td>0.206046</td>\n",
       "      <td>0.192117</td>\n",
       "      <td>1.000000</td>\n",
       "      <td>0.198847</td>\n",
       "      <td>0.687931</td>\n",
       "      <td>0.071795</td>\n",
       "      <td>0.206778</td>\n",
       "      <td>0.261526</td>\n",
       "    </tr>\n",
       "    <tr>\n",
       "      <th>Insulin</th>\n",
       "      <td>0.037557</td>\n",
       "      <td>0.686334</td>\n",
       "      <td>0.087237</td>\n",
       "      <td>0.198847</td>\n",
       "      <td>1.000000</td>\n",
       "      <td>0.300452</td>\n",
       "      <td>0.149876</td>\n",
       "      <td>0.151474</td>\n",
       "      <td>0.393506</td>\n",
       "    </tr>\n",
       "    <tr>\n",
       "      <th>BMI</th>\n",
       "      <td>-0.003140</td>\n",
       "      <td>0.226564</td>\n",
       "      <td>0.247141</td>\n",
       "      <td>0.687931</td>\n",
       "      <td>0.300452</td>\n",
       "      <td>1.000000</td>\n",
       "      <td>0.155963</td>\n",
       "      <td>0.081912</td>\n",
       "      <td>0.309852</td>\n",
       "    </tr>\n",
       "    <tr>\n",
       "      <th>DiabetesPedigreeFunction</th>\n",
       "      <td>-0.046298</td>\n",
       "      <td>0.091681</td>\n",
       "      <td>0.033308</td>\n",
       "      <td>0.071795</td>\n",
       "      <td>0.149876</td>\n",
       "      <td>0.155963</td>\n",
       "      <td>1.000000</td>\n",
       "      <td>0.032686</td>\n",
       "      <td>0.188404</td>\n",
       "    </tr>\n",
       "    <tr>\n",
       "      <th>Age</th>\n",
       "      <td>0.583523</td>\n",
       "      <td>0.215671</td>\n",
       "      <td>0.356888</td>\n",
       "      <td>0.206778</td>\n",
       "      <td>0.151474</td>\n",
       "      <td>0.081912</td>\n",
       "      <td>0.032686</td>\n",
       "      <td>1.000000</td>\n",
       "      <td>0.248776</td>\n",
       "    </tr>\n",
       "    <tr>\n",
       "      <th>Outcome</th>\n",
       "      <td>0.172776</td>\n",
       "      <td>0.469662</td>\n",
       "      <td>0.110650</td>\n",
       "      <td>0.261526</td>\n",
       "      <td>0.393506</td>\n",
       "      <td>0.309852</td>\n",
       "      <td>0.188404</td>\n",
       "      <td>0.248776</td>\n",
       "      <td>1.000000</td>\n",
       "    </tr>\n",
       "  </tbody>\n",
       "</table>\n",
       "</div>"
      ],
      "text/plain": [
       "                          Pregnancies   Glucose  BloodPressure  SkinThickness  \\\n",
       "Pregnancies                  1.000000  0.075334       0.189058       0.082360   \n",
       "Glucose                      0.075334  1.000000       0.232266       0.206046   \n",
       "BloodPressure                0.189058  0.232266       1.000000       0.192117   \n",
       "SkinThickness                0.082360  0.206046       0.192117       1.000000   \n",
       "Insulin                      0.037557  0.686334       0.087237       0.198847   \n",
       "BMI                         -0.003140  0.226564       0.247141       0.687931   \n",
       "DiabetesPedigreeFunction    -0.046298  0.091681       0.033308       0.071795   \n",
       "Age                          0.583523  0.215671       0.356888       0.206778   \n",
       "Outcome                      0.172776  0.469662       0.110650       0.261526   \n",
       "\n",
       "                           Insulin       BMI  DiabetesPedigreeFunction  \\\n",
       "Pregnancies               0.037557 -0.003140                 -0.046298   \n",
       "Glucose                   0.686334  0.226564                  0.091681   \n",
       "BloodPressure             0.087237  0.247141                  0.033308   \n",
       "SkinThickness             0.198847  0.687931                  0.071795   \n",
       "Insulin                   1.000000  0.300452                  0.149876   \n",
       "BMI                       0.300452  1.000000                  0.155963   \n",
       "DiabetesPedigreeFunction  0.149876  0.155963                  1.000000   \n",
       "Age                       0.151474  0.081912                  0.032686   \n",
       "Outcome                   0.393506  0.309852                  0.188404   \n",
       "\n",
       "                               Age   Outcome  \n",
       "Pregnancies               0.583523  0.172776  \n",
       "Glucose                   0.215671  0.469662  \n",
       "BloodPressure             0.356888  0.110650  \n",
       "SkinThickness             0.206778  0.261526  \n",
       "Insulin                   0.151474  0.393506  \n",
       "BMI                       0.081912  0.309852  \n",
       "DiabetesPedigreeFunction  0.032686  0.188404  \n",
       "Age                       1.000000  0.248776  \n",
       "Outcome                   0.248776  1.000000  "
      ]
     },
     "execution_count": 3,
     "metadata": {},
     "output_type": "execute_result"
    }
   ],
   "source": [
    "data.corr(method='spearman')"
   ]
  },
  {
   "cell_type": "code",
   "execution_count": 53,
   "metadata": {},
   "outputs": [
    {
     "data": {
      "text/plain": [
       "Pregnancies                   0\n",
       "Glucose                       5\n",
       "BloodPressure                35\n",
       "SkinThickness               227\n",
       "Insulin                     374\n",
       "BMI                          11\n",
       "DiabetesPedigreeFunction      0\n",
       "Age                           0\n",
       "Outcome                       0\n",
       "dtype: int64"
      ]
     },
     "execution_count": 53,
     "metadata": {},
     "output_type": "execute_result"
    }
   ],
   "source": [
    "data.isna().sum()"
   ]
  },
  {
   "cell_type": "code",
   "execution_count": 110,
   "metadata": {},
   "outputs": [],
   "source": [
    "#data['BloodPressure'] = data['BloodPressure'].fillna(0)\n",
    "data['Insulin'] = data['Insulin'].fillna(data['Insulin'].mean())\n",
    "data['Glucose'] = data['Glucose'].fillna(data['Glucose'].mean())\n",
    "#data['SkinThickness'] = data['SkinThickness'].fillna(data['SkinThickness'].mean())\n",
    "#data['BMI'] = data['BMI'].fillna(0)"
   ]
  },
  {
   "cell_type": "code",
   "execution_count": 112,
   "metadata": {},
   "outputs": [
    {
     "name": "stdout",
     "output_type": "stream",
     "text": [
      " - Criando X e y para o algoritmo de aprendizagem a partir do arquivo diabetes_dataset\n"
     ]
    }
   ],
   "source": [
    "#Tratamento de dados faltantes\n",
    "# Criando X and y par ao algorítmo de aprendizagem de máquina.\\\n",
    "print(' - Criando X e y para o algoritmo de aprendizagem a partir do arquivo diabetes_dataset')\n",
    "# Caso queira modificar as colunas consideradas basta algera o array a seguir.\n",
    "#feature_cols = ['Pregnancies', 'Glucose', 'BloodPressure', 'SkinThickness', \n",
    "#                'Insulin', 'BMI', 'DiabetesPedigreeFunction', 'Age']\n",
    "\n",
    "X = data[cols]\n",
    "y = data.Outcome"
   ]
  },
  {
   "cell_type": "code",
   "execution_count": 113,
   "metadata": {},
   "outputs": [],
   "source": [
    "# padronizando a escala dos valores\n",
    "\n",
    "from sklearn.preprocessing import StandardScaler\n",
    "scaler = StandardScaler()\n",
    "\n",
    "X = scaler.fit_transform(X,y)"
   ]
  },
  {
   "cell_type": "code",
   "execution_count": 106,
   "metadata": {},
   "outputs": [
    {
     "name": "stdout",
     "output_type": "stream",
     "text": [
      " - Criando modelo preditivo\n"
     ]
    }
   ],
   "source": [
    "# Ciando o modelo preditivo para a base trabalhada\n",
    "print(' - Criando modelo preditivo')\n",
    "neigh = KNeighborsClassifier(n_neighbors=3)\n",
    "#neigh.fit(X, y)"
   ]
  },
  {
   "cell_type": "code",
   "execution_count": 107,
   "metadata": {},
   "outputs": [
    {
     "name": "stdout",
     "output_type": "stream",
     "text": [
      "0.6766132723112127\n"
     ]
    }
   ],
   "source": [
    "from sklearn.model_selection import cross_val_score\n",
    "print(cross_val_score(neigh,X,y,cv=5).mean())"
   ]
  },
  {
   "cell_type": "code",
   "execution_count": 99,
   "metadata": {},
   "outputs": [
    {
     "name": "stdout",
     "output_type": "stream",
     "text": [
      " - Aplicando modelo e enviando para o servidor\n"
     ]
    }
   ],
   "source": [
    "print(' - Aplicando modelo e enviando para o servidor')\n",
    "\n",
    "data_app = pd.read_csv('diabetes_app.csv',usecols=cols)\n",
    "data_app = scaler.transform(data_app)\n",
    "y_pred = neigh.predict(data_app)"
   ]
  },
  {
   "cell_type": "code",
   "execution_count": 100,
   "metadata": {},
   "outputs": [
    {
     "name": "stdout",
     "output_type": "stream",
     "text": [
      " - Resposta do servidor:\n",
      " {\"status\":\"success\",\"dev_key\":\"Andre Santos\",\"accuracy\":0.6020408163265306,\"old_accuracy\":0.58163265306122} \n",
      "\n"
     ]
    }
   ],
   "source": [
    "# Enviando previsões realizadas com o modelo para o servidor\n",
    "\n",
    "URL = \"https://aydanomachado.com/mlclass/01_Preprocessing.php\"\n",
    "\n",
    "#TODO Substituir pela sua chave aqui\n",
    "DEV_KEY = \"Andre Santos\"\n",
    "\n",
    "# json para ser enviado para o servidor\n",
    "data = {'dev_key':DEV_KEY,\n",
    "        'predictions':pd.Series(y_pred).to_json(orient='values')}\n",
    "\n",
    "# Enviando requisição e salvando o objeto resposta\n",
    "r = requests.post(url = URL, data = data)\n",
    "\n",
    "# Extraindo e imprimindo o texto da resposta\n",
    "pastebin_url = r.text\n",
    "print(\" - Resposta do servidor:\\n\", r.text, \"\\n\")"
   ]
  },
  {
   "cell_type": "code",
   "execution_count": null,
   "metadata": {},
   "outputs": [],
   "source": []
  },
  {
   "cell_type": "code",
   "execution_count": null,
   "metadata": {},
   "outputs": [],
   "source": []
  },
  {
   "cell_type": "code",
   "execution_count": null,
   "metadata": {},
   "outputs": [],
   "source": []
  },
  {
   "cell_type": "code",
   "execution_count": null,
   "metadata": {},
   "outputs": [],
   "source": []
  },
  {
   "cell_type": "code",
   "execution_count": null,
   "metadata": {},
   "outputs": [],
   "source": []
  }
 ],
 "metadata": {
  "kernelspec": {
   "display_name": "Python 3",
   "language": "python",
   "name": "python3"
  },
  "language_info": {
   "codemirror_mode": {
    "name": "ipython",
    "version": 3
   },
   "file_extension": ".py",
   "mimetype": "text/x-python",
   "name": "python",
   "nbconvert_exporter": "python",
   "pygments_lexer": "ipython3",
   "version": "3.7.6"
  }
 },
 "nbformat": 4,
 "nbformat_minor": 4
}
