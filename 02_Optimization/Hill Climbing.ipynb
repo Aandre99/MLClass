{
 "cells": [
  {
   "cell_type": "code",
   "execution_count": 4,
   "metadata": {},
   "outputs": [],
   "source": [
    "import numpy as np\n",
    "from tqdm import tqdm\n",
    "import requests\n",
    "import json"
   ]
  },
  {
   "cell_type": "code",
   "execution_count": 5,
   "metadata": {},
   "outputs": [],
   "source": [
    "def operators(state):\n",
    "\n",
    "    neighbors = []\n",
    "    \n",
    "    for i in range(19):\n",
    "        _state = state.copy()\n",
    "        \n",
    "        idxs = []\n",
    "        count = 0\n",
    "        \n",
    "        while count < 4:\n",
    "            idx = np.random.randint(0,6)\n",
    "            if not (idx in idxs):\n",
    "                idxs.append(idx)\n",
    "                count+=1\n",
    "        \n",
    "        idx1,idx2,idx3,idx4, = tuple(idxs)\n",
    "        \n",
    "        _state[idx1] = _state[idx1] + 5\n",
    "        _state[idx2] = _state[idx2] - 5\n",
    "        _state[idx3] = _state[idx3] + 5\n",
    "        _state[idx4] = _state[idx4] - 5\n",
    "        \n",
    "        neighbors.append(list(map(lambda x:abs(x),_state)))\n",
    "    neighbors.append(np.random.randint(0,359,6).tolist())\n",
    "    return neighbors"
   ]
  },
  {
   "cell_type": "code",
   "execution_count": 9,
   "metadata": {},
   "outputs": [],
   "source": [
    "def evaluate_state(state):\n",
    "    #resp = requests.get('https://aydanomachado.com/mlclass/02_Optimization.php?phi1={}&theta1={}&phi2={}&theta2={}&phi3={}&theta3={}&dev_key=Andre%20Santos'.format(state[0],state[1],state[2],state[3],state[4],state[5]))\n",
    "    resp = requests.get('http://localhost:8080/antenna/simulate?phi1={}&theta1={}&phi2={}&theta2={}&phi3={}&theta3={}'.format(state[0],state[1],state[2],state[3],state[4],state[5]))\n",
    "    resp = resp.text\n",
    "    #resp = resp.replace(\"'\", \"\\\"\")\n",
    "    #resp = json.loads(resp)\n",
    "    resp = float(resp.split('\\n')[0])\n",
    "    #resp = resp['gain']\n",
    "    return resp"
   ]
  },
  {
   "cell_type": "code",
   "execution_count": 11,
   "metadata": {},
   "outputs": [],
   "source": [
    "def hill_climbing(initial_state,iterations=1000):\n",
    "    current_state = initial_state\n",
    "    best_params = None\n",
    "    best_value = - float('inf')\n",
    "\n",
    "    for i in tqdm(range(iterations)):\n",
    "        neighbors = operators(current_state)\n",
    "        for neigh in neighbors:\n",
    "            current_value = evaluate_state(neigh)\n",
    "            if current_value > best_value:\n",
    "                best_value = current_value\n",
    "                best_params = neigh\n",
    "        #print(best_value)\n",
    "        current_state = best_params\n",
    "\n",
    "    return best_params,best_value"
   ]
  },
  {
   "cell_type": "code",
   "execution_count": 12,
   "metadata": {},
   "outputs": [
    {
     "name": "stderr",
     "output_type": "stream",
     "text": [
      "100%|██████████████████████████████████████████████████████████████████████████████| 1000/1000 [05:24<00:00,  3.08it/s]"
     ]
    },
    {
     "name": "stdout",
     "output_type": "stream",
     "text": [
      "([221, 167, 230, 274, 179, 156], 26.015695902665072)\n"
     ]
    },
    {
     "name": "stderr",
     "output_type": "stream",
     "text": [
      "\n"
     ]
    }
   ],
   "source": [
    "array = np.random.randint(0,359,6).tolist()\n",
    "print(hill_climbing(array))"
   ]
  },
  {
   "cell_type": "code",
   "execution_count": null,
   "metadata": {},
   "outputs": [],
   "source": []
  }
 ],
 "metadata": {
  "kernelspec": {
   "display_name": "Python 3",
   "language": "python",
   "name": "python3"
  },
  "language_info": {
   "codemirror_mode": {
    "name": "ipython",
    "version": 3
   },
   "file_extension": ".py",
   "mimetype": "text/x-python",
   "name": "python",
   "nbconvert_exporter": "python",
   "pygments_lexer": "ipython3",
   "version": "3.7.6"
  }
 },
 "nbformat": 4,
 "nbformat_minor": 4
}
