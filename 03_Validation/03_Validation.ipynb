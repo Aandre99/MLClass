{
 "cells": [
  {
   "cell_type": "code",
   "execution_count": 1,
   "metadata": {
    "id": "M9iF9p3HTssi"
   },
   "outputs": [],
   "source": [
    "import pandas as pd\n",
    "import numpy as np\n",
    "import matplotlib.pyplot as plt\n",
    "from tqdm import tqdm\n",
    "plt.style.use('classic')\n",
    "%matplotlib inline\n",
    "import requests"
   ]
  },
  {
   "cell_type": "code",
   "execution_count": 2,
   "metadata": {
    "id": "hGgHsXsnRmLF"
   },
   "outputs": [],
   "source": [
    "from sklearn.feature_selection import SelectKBest,SelectPercentile,f_classif\n",
    "from sklearn.metrics import accuracy_score\n",
    "from sklearn.ensemble import RandomForestClassifier"
   ]
  },
  {
   "cell_type": "code",
   "execution_count": null,
   "metadata": {
    "colab": {
     "base_uri": "https://localhost:8080/"
    },
    "id": "kjDV8NUBT-Dh",
    "outputId": "64c75a0f-3c06-48cb-aa32-1a7999e0a88a"
   },
   "outputs": [
    {
     "name": "stdout",
     "output_type": "stream",
     "text": [
      "/content/drive/MyDrive/03_Validation\n"
     ]
    }
   ],
   "source": [
    "cd '/content/drive/MyDrive/03_Validation'"
   ]
  },
  {
   "cell_type": "code",
   "execution_count": null,
   "metadata": {
    "colab": {
     "base_uri": "https://localhost:8080/"
    },
    "id": "iHxy0QRdT-LU",
    "outputId": "38f26280-cbfb-410d-a867-1b825f846f3d"
   },
   "outputs": [
    {
     "name": "stdout",
     "output_type": "stream",
     "text": [
      "abalone_app.csv   abalone_dataset.csv\tREADME.md\n",
      "abalone_app.xlsx  abalone_dataset.xlsx\n"
     ]
    }
   ],
   "source": [
    "!dir"
   ]
  },
  {
   "cell_type": "code",
   "execution_count": null,
   "metadata": {
    "colab": {
     "base_uri": "https://localhost:8080/",
     "height": 204
    },
    "id": "ljTH-mPfT-QT",
    "outputId": "1d846586-f9a0-4094-d73d-b4080cc2be4c"
   },
   "outputs": [
    {
     "data": {
      "text/html": [
       "<div>\n",
       "<style scoped>\n",
       "    .dataframe tbody tr th:only-of-type {\n",
       "        vertical-align: middle;\n",
       "    }\n",
       "\n",
       "    .dataframe tbody tr th {\n",
       "        vertical-align: top;\n",
       "    }\n",
       "\n",
       "    .dataframe thead th {\n",
       "        text-align: right;\n",
       "    }\n",
       "</style>\n",
       "<table border=\"1\" class=\"dataframe\">\n",
       "  <thead>\n",
       "    <tr style=\"text-align: right;\">\n",
       "      <th></th>\n",
       "      <th>sex</th>\n",
       "      <th>length</th>\n",
       "      <th>diameter</th>\n",
       "      <th>height</th>\n",
       "      <th>whole_weight</th>\n",
       "      <th>shucked_weight</th>\n",
       "      <th>viscera_weight</th>\n",
       "      <th>shell_weight</th>\n",
       "      <th>type</th>\n",
       "    </tr>\n",
       "  </thead>\n",
       "  <tbody>\n",
       "    <tr>\n",
       "      <th>0</th>\n",
       "      <td>M</td>\n",
       "      <td>0.535</td>\n",
       "      <td>0.420</td>\n",
       "      <td>0.150</td>\n",
       "      <td>0.6995</td>\n",
       "      <td>0.2575</td>\n",
       "      <td>0.1530</td>\n",
       "      <td>0.2400</td>\n",
       "      <td>3</td>\n",
       "    </tr>\n",
       "    <tr>\n",
       "      <th>1</th>\n",
       "      <td>I</td>\n",
       "      <td>0.510</td>\n",
       "      <td>0.380</td>\n",
       "      <td>0.115</td>\n",
       "      <td>0.5155</td>\n",
       "      <td>0.2150</td>\n",
       "      <td>0.1135</td>\n",
       "      <td>0.1660</td>\n",
       "      <td>1</td>\n",
       "    </tr>\n",
       "    <tr>\n",
       "      <th>2</th>\n",
       "      <td>I</td>\n",
       "      <td>0.185</td>\n",
       "      <td>0.130</td>\n",
       "      <td>0.045</td>\n",
       "      <td>0.0290</td>\n",
       "      <td>0.0120</td>\n",
       "      <td>0.0075</td>\n",
       "      <td>0.0095</td>\n",
       "      <td>1</td>\n",
       "    </tr>\n",
       "    <tr>\n",
       "      <th>3</th>\n",
       "      <td>M</td>\n",
       "      <td>0.550</td>\n",
       "      <td>0.450</td>\n",
       "      <td>0.170</td>\n",
       "      <td>0.8100</td>\n",
       "      <td>0.3170</td>\n",
       "      <td>0.1570</td>\n",
       "      <td>0.2200</td>\n",
       "      <td>3</td>\n",
       "    </tr>\n",
       "    <tr>\n",
       "      <th>4</th>\n",
       "      <td>I</td>\n",
       "      <td>0.535</td>\n",
       "      <td>0.415</td>\n",
       "      <td>0.150</td>\n",
       "      <td>0.5765</td>\n",
       "      <td>0.3595</td>\n",
       "      <td>0.1350</td>\n",
       "      <td>0.2250</td>\n",
       "      <td>1</td>\n",
       "    </tr>\n",
       "  </tbody>\n",
       "</table>\n",
       "</div>"
      ],
      "text/plain": [
       "  sex  length  diameter  ...  viscera_weight  shell_weight  type\n",
       "0   M   0.535     0.420  ...          0.1530        0.2400     3\n",
       "1   I   0.510     0.380  ...          0.1135        0.1660     1\n",
       "2   I   0.185     0.130  ...          0.0075        0.0095     1\n",
       "3   M   0.550     0.450  ...          0.1570        0.2200     3\n",
       "4   I   0.535     0.415  ...          0.1350        0.2250     1\n",
       "\n",
       "[5 rows x 9 columns]"
      ]
     },
     "execution_count": 114,
     "metadata": {
      "tags": []
     },
     "output_type": "execute_result"
    }
   ],
   "source": [
    "data = pd.read_csv('abalone_dataset.csv')\n",
    "data.head()"
   ]
  },
  {
   "cell_type": "code",
   "execution_count": null,
   "metadata": {
    "colab": {
     "base_uri": "https://localhost:8080/"
    },
    "id": "RCX9z-urZupY",
    "outputId": "2a46ec6d-7939-43d0-f37c-c1cecc7e6c91"
   },
   "outputs": [
    {
     "data": {
      "text/plain": [
       "1    1078\n",
       "3    1051\n",
       "2    1003\n",
       "Name: type, dtype: int64"
      ]
     },
     "execution_count": 26,
     "metadata": {
      "tags": []
     },
     "output_type": "execute_result"
    }
   ],
   "source": [
    "data.type.value_counts()"
   ]
  },
  {
   "cell_type": "code",
   "execution_count": null,
   "metadata": {
    "colab": {
     "base_uri": "https://localhost:8080/",
     "height": 204
    },
    "id": "LC1wv9IvXCdC",
    "outputId": "a7a2fea6-6503-4d75-da11-5808e514283f"
   },
   "outputs": [
    {
     "data": {
      "text/html": [
       "<div>\n",
       "<style scoped>\n",
       "    .dataframe tbody tr th:only-of-type {\n",
       "        vertical-align: middle;\n",
       "    }\n",
       "\n",
       "    .dataframe tbody tr th {\n",
       "        vertical-align: top;\n",
       "    }\n",
       "\n",
       "    .dataframe thead th {\n",
       "        text-align: right;\n",
       "    }\n",
       "</style>\n",
       "<table border=\"1\" class=\"dataframe\">\n",
       "  <thead>\n",
       "    <tr style=\"text-align: right;\">\n",
       "      <th></th>\n",
       "      <th>sex</th>\n",
       "      <th>length</th>\n",
       "      <th>diameter</th>\n",
       "      <th>height</th>\n",
       "      <th>whole_weight</th>\n",
       "      <th>shucked_weight</th>\n",
       "      <th>viscera_weight</th>\n",
       "      <th>shell_weight</th>\n",
       "    </tr>\n",
       "  </thead>\n",
       "  <tbody>\n",
       "    <tr>\n",
       "      <th>0</th>\n",
       "      <td>M</td>\n",
       "      <td>0.600</td>\n",
       "      <td>0.480</td>\n",
       "      <td>0.175</td>\n",
       "      <td>1.2290</td>\n",
       "      <td>0.4125</td>\n",
       "      <td>0.2735</td>\n",
       "      <td>0.4150</td>\n",
       "    </tr>\n",
       "    <tr>\n",
       "      <th>1</th>\n",
       "      <td>F</td>\n",
       "      <td>0.545</td>\n",
       "      <td>0.385</td>\n",
       "      <td>0.150</td>\n",
       "      <td>1.1185</td>\n",
       "      <td>0.5425</td>\n",
       "      <td>0.2445</td>\n",
       "      <td>0.2845</td>\n",
       "    </tr>\n",
       "    <tr>\n",
       "      <th>2</th>\n",
       "      <td>F</td>\n",
       "      <td>0.645</td>\n",
       "      <td>0.520</td>\n",
       "      <td>0.180</td>\n",
       "      <td>1.2850</td>\n",
       "      <td>0.5775</td>\n",
       "      <td>0.3520</td>\n",
       "      <td>0.3170</td>\n",
       "    </tr>\n",
       "    <tr>\n",
       "      <th>3</th>\n",
       "      <td>M</td>\n",
       "      <td>0.640</td>\n",
       "      <td>0.510</td>\n",
       "      <td>0.170</td>\n",
       "      <td>1.3715</td>\n",
       "      <td>0.5670</td>\n",
       "      <td>0.3070</td>\n",
       "      <td>0.4090</td>\n",
       "    </tr>\n",
       "    <tr>\n",
       "      <th>4</th>\n",
       "      <td>F</td>\n",
       "      <td>0.655</td>\n",
       "      <td>0.540</td>\n",
       "      <td>0.215</td>\n",
       "      <td>1.5555</td>\n",
       "      <td>0.6950</td>\n",
       "      <td>0.2960</td>\n",
       "      <td>0.4440</td>\n",
       "    </tr>\n",
       "  </tbody>\n",
       "</table>\n",
       "</div>"
      ],
      "text/plain": [
       "  sex  length  diameter  ...  shucked_weight  viscera_weight  shell_weight\n",
       "0   M   0.600     0.480  ...          0.4125          0.2735        0.4150\n",
       "1   F   0.545     0.385  ...          0.5425          0.2445        0.2845\n",
       "2   F   0.645     0.520  ...          0.5775          0.3520        0.3170\n",
       "3   M   0.640     0.510  ...          0.5670          0.3070        0.4090\n",
       "4   F   0.655     0.540  ...          0.6950          0.2960        0.4440\n",
       "\n",
       "[5 rows x 8 columns]"
      ]
     },
     "execution_count": 9,
     "metadata": {
      "tags": []
     },
     "output_type": "execute_result"
    }
   ],
   "source": [
    "data_test = pd.read_csv('abalone_app.csv')\n",
    "data_test.head(5)"
   ]
  },
  {
   "cell_type": "markdown",
   "metadata": {
    "id": "ZFmBSLEsV5pY"
   },
   "source": [
    "#Data preprocessing\n"
   ]
  },
  {
   "cell_type": "code",
   "execution_count": null,
   "metadata": {
    "colab": {
     "base_uri": "https://localhost:8080/",
     "height": 204
    },
    "id": "16Xff78ET-aK",
    "outputId": "a95170ca-d89c-4684-d73c-7006fc29c24e"
   },
   "outputs": [
    {
     "data": {
      "text/html": [
       "<div>\n",
       "<style scoped>\n",
       "    .dataframe tbody tr th:only-of-type {\n",
       "        vertical-align: middle;\n",
       "    }\n",
       "\n",
       "    .dataframe tbody tr th {\n",
       "        vertical-align: top;\n",
       "    }\n",
       "\n",
       "    .dataframe thead th {\n",
       "        text-align: right;\n",
       "    }\n",
       "</style>\n",
       "<table border=\"1\" class=\"dataframe\">\n",
       "  <thead>\n",
       "    <tr style=\"text-align: right;\">\n",
       "      <th></th>\n",
       "      <th>sex0</th>\n",
       "      <th>sex1</th>\n",
       "      <th>sex2</th>\n",
       "      <th>length</th>\n",
       "      <th>diameter</th>\n",
       "      <th>height</th>\n",
       "      <th>whole_weight</th>\n",
       "      <th>shucked_weight</th>\n",
       "      <th>viscera_weight</th>\n",
       "      <th>shell_weight</th>\n",
       "      <th>type</th>\n",
       "    </tr>\n",
       "  </thead>\n",
       "  <tbody>\n",
       "    <tr>\n",
       "      <th>0</th>\n",
       "      <td>0</td>\n",
       "      <td>0</td>\n",
       "      <td>1</td>\n",
       "      <td>0.535</td>\n",
       "      <td>0.420</td>\n",
       "      <td>0.150</td>\n",
       "      <td>0.6995</td>\n",
       "      <td>0.2575</td>\n",
       "      <td>0.1530</td>\n",
       "      <td>0.2400</td>\n",
       "      <td>3</td>\n",
       "    </tr>\n",
       "    <tr>\n",
       "      <th>1</th>\n",
       "      <td>0</td>\n",
       "      <td>1</td>\n",
       "      <td>0</td>\n",
       "      <td>0.510</td>\n",
       "      <td>0.380</td>\n",
       "      <td>0.115</td>\n",
       "      <td>0.5155</td>\n",
       "      <td>0.2150</td>\n",
       "      <td>0.1135</td>\n",
       "      <td>0.1660</td>\n",
       "      <td>1</td>\n",
       "    </tr>\n",
       "    <tr>\n",
       "      <th>2</th>\n",
       "      <td>0</td>\n",
       "      <td>1</td>\n",
       "      <td>0</td>\n",
       "      <td>0.185</td>\n",
       "      <td>0.130</td>\n",
       "      <td>0.045</td>\n",
       "      <td>0.0290</td>\n",
       "      <td>0.0120</td>\n",
       "      <td>0.0075</td>\n",
       "      <td>0.0095</td>\n",
       "      <td>1</td>\n",
       "    </tr>\n",
       "    <tr>\n",
       "      <th>3</th>\n",
       "      <td>0</td>\n",
       "      <td>0</td>\n",
       "      <td>1</td>\n",
       "      <td>0.550</td>\n",
       "      <td>0.450</td>\n",
       "      <td>0.170</td>\n",
       "      <td>0.8100</td>\n",
       "      <td>0.3170</td>\n",
       "      <td>0.1570</td>\n",
       "      <td>0.2200</td>\n",
       "      <td>3</td>\n",
       "    </tr>\n",
       "    <tr>\n",
       "      <th>4</th>\n",
       "      <td>0</td>\n",
       "      <td>1</td>\n",
       "      <td>0</td>\n",
       "      <td>0.535</td>\n",
       "      <td>0.415</td>\n",
       "      <td>0.150</td>\n",
       "      <td>0.5765</td>\n",
       "      <td>0.3595</td>\n",
       "      <td>0.1350</td>\n",
       "      <td>0.2250</td>\n",
       "      <td>1</td>\n",
       "    </tr>\n",
       "  </tbody>\n",
       "</table>\n",
       "</div>"
      ],
      "text/plain": [
       "   sex0  sex1  sex2  length  ...  shucked_weight  viscera_weight  shell_weight  type\n",
       "0     0     0     1   0.535  ...          0.2575          0.1530        0.2400     3\n",
       "1     0     1     0   0.510  ...          0.2150          0.1135        0.1660     1\n",
       "2     0     1     0   0.185  ...          0.0120          0.0075        0.0095     1\n",
       "3     0     0     1   0.550  ...          0.3170          0.1570        0.2200     3\n",
       "4     0     1     0   0.535  ...          0.3595          0.1350        0.2250     1\n",
       "\n",
       "[5 rows x 11 columns]"
      ]
     },
     "execution_count": 115,
     "metadata": {
      "tags": []
     },
     "output_type": "execute_result"
    }
   ],
   "source": [
    "from sklearn.preprocessing import LabelBinarizer\n",
    "\n",
    "encoder = LabelBinarizer()\n",
    "new_sex_coders = encoder.fit_transform(data.sex.copy())\n",
    "\n",
    "df_sex = pd.DataFrame(new_sex_coders,columns=['sex0','sex1','sex2'])\n",
    "df_sex.head(5)\n",
    "\n",
    "#data = data.drop('sex',axis=1)\n",
    "new_data = pd.concat([df_sex.reset_index(drop=True), data.reset_index(drop=True)], axis=1)\n",
    "new_data = new_data.drop('sex',axis=1)\n",
    "new_data.head(5)"
   ]
  },
  {
   "cell_type": "code",
   "execution_count": null,
   "metadata": {
    "colab": {
     "base_uri": "https://localhost:8080/"
    },
    "id": "hlPMWkhyXwz_",
    "outputId": "07ab24f6-545c-4eb7-d1fb-721591d4f038"
   },
   "outputs": [
    {
     "data": {
      "text/plain": [
       "Index(['length', 'diameter', 'height', 'whole_weight', 'shucked_weight',\n",
       "       'viscera_weight', 'shell_weight', 'type', 'sex_0', 'sex_1', 'sex_2'],\n",
       "      dtype='object')"
      ]
     },
     "execution_count": 34,
     "metadata": {
      "tags": []
     },
     "output_type": "execute_result"
    }
   ],
   "source": []
  },
  {
   "cell_type": "markdown",
   "metadata": {
    "id": "Cl1omsHZepfo"
   },
   "source": [
    "#Data split"
   ]
  },
  {
   "cell_type": "code",
   "execution_count": null,
   "metadata": {
    "colab": {
     "base_uri": "https://localhost:8080/"
    },
    "id": "BvuxbW30X2jA",
    "outputId": "d90f747c-479c-49e6-d72a-f1c7cad3405b"
   },
   "outputs": [
    {
     "name": "stdout",
     "output_type": "stream",
     "text": [
      "(2505, 10) (627, 10)\n",
      "(2505,) (627,)\n"
     ]
    }
   ],
   "source": [
    "from sklearn.model_selection import train_test_split\n",
    "\n",
    "x_train,x_test,y_train,y_test = train_test_split(new_data.drop('type',axis=1),new_data.type,test_size=0.2,random_state=42)\n",
    "print(x_train.shape,x_test.shape)\n",
    "print(y_train.shape,y_test.shape)"
   ]
  },
  {
   "cell_type": "markdown",
   "metadata": {
    "id": "sGPvA452ZKEM"
   },
   "source": [
    "#Hyperparameters Selection"
   ]
  },
  {
   "cell_type": "code",
   "execution_count": null,
   "metadata": {
    "id": "_uGAFnlYhH8U"
   },
   "outputs": [],
   "source": [
    "def get_neighbors(n,d):\n",
    "  neighbor = []\n",
    "  neighbor.append([n+2,d+2])\n",
    "  neighbor.append([n-2,1 if d-2 < 1 else d-2])\n",
    "  neighbor.append([n+1,d+1])\n",
    "  neighbor.append([n-1,1 if d-1 < 1 else d-1])\n",
    "  neighbor.append([np.random.randint(10,100),np.random.randint(1,5)])\n",
    "\n",
    "  return neighbor\n",
    "\n",
    "def hill_climbing(n,d,iter):\n",
    "\n",
    "  best_score = 0\n",
    "  best_n = n\n",
    "  best_d = d\n",
    "\n",
    "  for i in range(iter):\n",
    "    for _n in get_neighbors(n,d):\n",
    "\n",
    "      rfc = RandomForestClassifier(n_estimators=_n[0],max_depth=_n[1])\n",
    "      rfc.fit(x_train,y_train)\n",
    "      current_score = rfc.score(x_test,y_test)\n",
    "\n",
    "      #print('n={},d={} -> score={}'.format(_n[0],_n[1],current_score))\n",
    "      if best_score < current_score:\n",
    "        best_score = current_score\n",
    "        best_n = _n[0]\n",
    "        best_d = _n[1]\n",
    "\n",
    "    n = best_n\n",
    "    d = best_d\n",
    "\n",
    "    print('i = {}, n={},d={} -> score={}'.format(i,best_n, best_d,best_score))\n",
    "\n",
    "  return best_n,best_d,best_score"
   ]
  },
  {
   "cell_type": "code",
   "execution_count": null,
   "metadata": {
    "colab": {
     "base_uri": "https://localhost:8080/"
    },
    "id": "uAdMLzKVjsYn",
    "outputId": "5c5caf5a-540c-4408-c0fe-5de30ce4a5b8"
   },
   "outputs": [
    {
     "name": "stdout",
     "output_type": "stream",
     "text": [
      "i = 0, n=7,d=2 -> score=0.5964912280701754\n",
      "i = 1, n=8,d=3 -> score=0.6331738437001595\n",
      "i = 2, n=10,d=5 -> score=0.6475279106858054\n",
      "i = 3, n=10,d=5 -> score=0.6475279106858054\n",
      "i = 4, n=10,d=5 -> score=0.6475279106858054\n",
      "i = 5, n=10,d=5 -> score=0.6475279106858054\n",
      "i = 6, n=12,d=7 -> score=0.6539074960127592\n",
      "i = 7, n=12,d=7 -> score=0.6539074960127592\n",
      "i = 8, n=12,d=7 -> score=0.6539074960127592\n",
      "i = 9, n=12,d=7 -> score=0.6539074960127592\n",
      "i = 10, n=12,d=7 -> score=0.6539074960127592\n",
      "i = 11, n=12,d=7 -> score=0.6539074960127592\n",
      "i = 12, n=12,d=7 -> score=0.6539074960127592\n",
      "i = 13, n=12,d=7 -> score=0.6539074960127592\n",
      "i = 14, n=12,d=7 -> score=0.6539074960127592\n",
      "i = 15, n=12,d=7 -> score=0.6539074960127592\n",
      "i = 16, n=12,d=7 -> score=0.6539074960127592\n",
      "i = 17, n=12,d=7 -> score=0.6539074960127592\n",
      "i = 18, n=12,d=7 -> score=0.6539074960127592\n",
      "i = 19, n=12,d=7 -> score=0.6539074960127592\n",
      "i = 20, n=12,d=7 -> score=0.6539074960127592\n",
      "i = 21, n=12,d=7 -> score=0.6539074960127592\n",
      "i = 22, n=12,d=7 -> score=0.6539074960127592\n",
      "i = 23, n=12,d=7 -> score=0.6539074960127592\n",
      "i = 24, n=12,d=7 -> score=0.6539074960127592\n",
      "i = 25, n=13,d=8 -> score=0.6555023923444976\n",
      "i = 26, n=13,d=8 -> score=0.6555023923444976\n",
      "i = 27, n=13,d=8 -> score=0.6555023923444976\n",
      "i = 28, n=13,d=8 -> score=0.6555023923444976\n",
      "i = 29, n=13,d=8 -> score=0.6555023923444976\n",
      "i = 30, n=13,d=8 -> score=0.6555023923444976\n",
      "i = 31, n=13,d=8 -> score=0.6555023923444976\n",
      "i = 32, n=13,d=8 -> score=0.6555023923444976\n",
      "i = 33, n=13,d=8 -> score=0.6555023923444976\n",
      "i = 34, n=13,d=8 -> score=0.6555023923444976\n",
      "i = 35, n=13,d=8 -> score=0.6555023923444976\n",
      "i = 36, n=13,d=8 -> score=0.6555023923444976\n",
      "i = 37, n=13,d=8 -> score=0.6555023923444976\n",
      "i = 38, n=13,d=8 -> score=0.6555023923444976\n",
      "i = 39, n=13,d=8 -> score=0.6555023923444976\n",
      "i = 40, n=13,d=8 -> score=0.6555023923444976\n",
      "i = 41, n=13,d=8 -> score=0.6555023923444976\n",
      "i = 42, n=13,d=8 -> score=0.6555023923444976\n",
      "i = 43, n=13,d=8 -> score=0.6555023923444976\n",
      "i = 44, n=13,d=8 -> score=0.6555023923444976\n",
      "i = 45, n=13,d=8 -> score=0.6555023923444976\n",
      "i = 46, n=13,d=8 -> score=0.6555023923444976\n",
      "i = 47, n=13,d=8 -> score=0.6555023923444976\n",
      "i = 48, n=13,d=8 -> score=0.6555023923444976\n",
      "i = 49, n=13,d=8 -> score=0.6555023923444976\n"
     ]
    }
   ],
   "source": [
    "_n = np.random.randint(0,10)\n",
    "_d = np.random.randint(1,10)\n",
    "\n",
    "n,d,score = hill_climbing(_n,_d,50)"
   ]
  },
  {
   "cell_type": "code",
   "execution_count": null,
   "metadata": {
    "colab": {
     "base_uri": "https://localhost:8080/"
    },
    "id": "A6LcYcMAio3_",
    "outputId": "426d77cb-4e77-46b5-ab3e-d59df9419aed"
   },
   "outputs": [
    {
     "name": "stdout",
     "output_type": "stream",
     "text": [
      "Best_n = 13,Best_d = 8, Best_score= 0.6555023923444976\n"
     ]
    }
   ],
   "source": [
    "print('Best_n = {},Best_d = {}, Best_score= {}'.format(n,d,score))"
   ]
  },
  {
   "cell_type": "markdown",
   "metadata": {
    "id": "-FQ1H1lecUFe"
   },
   "source": [
    "#Define Model"
   ]
  },
  {
   "cell_type": "code",
   "execution_count": null,
   "metadata": {
    "colab": {
     "base_uri": "https://localhost:8080/"
    },
    "id": "NrTGkF6vZOol",
    "outputId": "be5860c2-d5d8-42fa-d3c9-e91a78196620"
   },
   "outputs": [
    {
     "data": {
      "text/plain": [
       "RandomForestClassifier(bootstrap=True, ccp_alpha=0.0, class_weight=None,\n",
       "                       criterion='gini', max_depth=8, max_features='auto',\n",
       "                       max_leaf_nodes=None, max_samples=None,\n",
       "                       min_impurity_decrease=0.0, min_impurity_split=None,\n",
       "                       min_samples_leaf=1, min_samples_split=2,\n",
       "                       min_weight_fraction_leaf=0.0, n_estimators=13,\n",
       "                       n_jobs=None, oob_score=False, random_state=None,\n",
       "                       verbose=0, warm_start=False)"
      ]
     },
     "execution_count": 126,
     "metadata": {
      "tags": []
     },
     "output_type": "execute_result"
    }
   ],
   "source": [
    "from sklearn.model_selection import cross_val_score\n",
    "rfc = RandomForestClassifier(n_estimators=13,max_depth=8)\n",
    "rfc.fit(x_train,y_train)"
   ]
  },
  {
   "cell_type": "markdown",
   "metadata": {
    "id": "HcP2PfuEYiTO"
   },
   "source": [
    "#Model Valitation"
   ]
  },
  {
   "cell_type": "code",
   "execution_count": null,
   "metadata": {
    "colab": {
     "base_uri": "https://localhost:8080/"
    },
    "id": "Bkhn88nsUJiF",
    "outputId": "4bb3600e-366e-4caa-f213-0f0e5f0809da"
   },
   "outputs": [
    {
     "data": {
      "text/plain": [
       "0.6363636363636364"
      ]
     },
     "execution_count": 127,
     "metadata": {
      "tags": []
     },
     "output_type": "execute_result"
    }
   ],
   "source": [
    "rfc.score(x_test,y_test)"
   ]
  },
  {
   "cell_type": "markdown",
   "metadata": {
    "id": "pAV88kfAsjWt"
   },
   "source": [
    "#Model Predict"
   ]
  },
  {
   "cell_type": "code",
   "execution_count": null,
   "metadata": {
    "colab": {
     "base_uri": "https://localhost:8080/",
     "height": 204
    },
    "id": "2vRFWAMpsNdE",
    "outputId": "a6b4b346-97ea-451a-8e00-dd702f27ccaf"
   },
   "outputs": [
    {
     "data": {
      "text/html": [
       "<div>\n",
       "<style scoped>\n",
       "    .dataframe tbody tr th:only-of-type {\n",
       "        vertical-align: middle;\n",
       "    }\n",
       "\n",
       "    .dataframe tbody tr th {\n",
       "        vertical-align: top;\n",
       "    }\n",
       "\n",
       "    .dataframe thead th {\n",
       "        text-align: right;\n",
       "    }\n",
       "</style>\n",
       "<table border=\"1\" class=\"dataframe\">\n",
       "  <thead>\n",
       "    <tr style=\"text-align: right;\">\n",
       "      <th></th>\n",
       "      <th>sex</th>\n",
       "      <th>length</th>\n",
       "      <th>diameter</th>\n",
       "      <th>height</th>\n",
       "      <th>whole_weight</th>\n",
       "      <th>shucked_weight</th>\n",
       "      <th>viscera_weight</th>\n",
       "      <th>shell_weight</th>\n",
       "    </tr>\n",
       "  </thead>\n",
       "  <tbody>\n",
       "    <tr>\n",
       "      <th>0</th>\n",
       "      <td>M</td>\n",
       "      <td>0.600</td>\n",
       "      <td>0.480</td>\n",
       "      <td>0.175</td>\n",
       "      <td>1.2290</td>\n",
       "      <td>0.4125</td>\n",
       "      <td>0.2735</td>\n",
       "      <td>0.4150</td>\n",
       "    </tr>\n",
       "    <tr>\n",
       "      <th>1</th>\n",
       "      <td>F</td>\n",
       "      <td>0.545</td>\n",
       "      <td>0.385</td>\n",
       "      <td>0.150</td>\n",
       "      <td>1.1185</td>\n",
       "      <td>0.5425</td>\n",
       "      <td>0.2445</td>\n",
       "      <td>0.2845</td>\n",
       "    </tr>\n",
       "    <tr>\n",
       "      <th>2</th>\n",
       "      <td>F</td>\n",
       "      <td>0.645</td>\n",
       "      <td>0.520</td>\n",
       "      <td>0.180</td>\n",
       "      <td>1.2850</td>\n",
       "      <td>0.5775</td>\n",
       "      <td>0.3520</td>\n",
       "      <td>0.3170</td>\n",
       "    </tr>\n",
       "    <tr>\n",
       "      <th>3</th>\n",
       "      <td>M</td>\n",
       "      <td>0.640</td>\n",
       "      <td>0.510</td>\n",
       "      <td>0.170</td>\n",
       "      <td>1.3715</td>\n",
       "      <td>0.5670</td>\n",
       "      <td>0.3070</td>\n",
       "      <td>0.4090</td>\n",
       "    </tr>\n",
       "    <tr>\n",
       "      <th>4</th>\n",
       "      <td>F</td>\n",
       "      <td>0.655</td>\n",
       "      <td>0.540</td>\n",
       "      <td>0.215</td>\n",
       "      <td>1.5555</td>\n",
       "      <td>0.6950</td>\n",
       "      <td>0.2960</td>\n",
       "      <td>0.4440</td>\n",
       "    </tr>\n",
       "  </tbody>\n",
       "</table>\n",
       "</div>"
      ],
      "text/plain": [
       "  sex  length  diameter  ...  shucked_weight  viscera_weight  shell_weight\n",
       "0   M   0.600     0.480  ...          0.4125          0.2735        0.4150\n",
       "1   F   0.545     0.385  ...          0.5425          0.2445        0.2845\n",
       "2   F   0.645     0.520  ...          0.5775          0.3520        0.3170\n",
       "3   M   0.640     0.510  ...          0.5670          0.3070        0.4090\n",
       "4   F   0.655     0.540  ...          0.6950          0.2960        0.4440\n",
       "\n",
       "[5 rows x 8 columns]"
      ]
     },
     "execution_count": 130,
     "metadata": {
      "tags": []
     },
     "output_type": "execute_result"
    }
   ],
   "source": [
    "data_test = pd.read_csv('abalone_app.csv')\n",
    "data_test.head(5)"
   ]
  },
  {
   "cell_type": "code",
   "execution_count": null,
   "metadata": {
    "colab": {
     "base_uri": "https://localhost:8080/",
     "height": 204
    },
    "id": "7hKfVaTysifJ",
    "outputId": "3979c5f1-1255-4049-e32d-db94d3899b79"
   },
   "outputs": [
    {
     "data": {
      "text/html": [
       "<div>\n",
       "<style scoped>\n",
       "    .dataframe tbody tr th:only-of-type {\n",
       "        vertical-align: middle;\n",
       "    }\n",
       "\n",
       "    .dataframe tbody tr th {\n",
       "        vertical-align: top;\n",
       "    }\n",
       "\n",
       "    .dataframe thead th {\n",
       "        text-align: right;\n",
       "    }\n",
       "</style>\n",
       "<table border=\"1\" class=\"dataframe\">\n",
       "  <thead>\n",
       "    <tr style=\"text-align: right;\">\n",
       "      <th></th>\n",
       "      <th>sex0</th>\n",
       "      <th>sex1</th>\n",
       "      <th>sex2</th>\n",
       "      <th>length</th>\n",
       "      <th>diameter</th>\n",
       "      <th>height</th>\n",
       "      <th>whole_weight</th>\n",
       "      <th>shucked_weight</th>\n",
       "      <th>viscera_weight</th>\n",
       "      <th>shell_weight</th>\n",
       "    </tr>\n",
       "  </thead>\n",
       "  <tbody>\n",
       "    <tr>\n",
       "      <th>0</th>\n",
       "      <td>0</td>\n",
       "      <td>0</td>\n",
       "      <td>1</td>\n",
       "      <td>0.600</td>\n",
       "      <td>0.480</td>\n",
       "      <td>0.175</td>\n",
       "      <td>1.2290</td>\n",
       "      <td>0.4125</td>\n",
       "      <td>0.2735</td>\n",
       "      <td>0.4150</td>\n",
       "    </tr>\n",
       "    <tr>\n",
       "      <th>1</th>\n",
       "      <td>1</td>\n",
       "      <td>0</td>\n",
       "      <td>0</td>\n",
       "      <td>0.545</td>\n",
       "      <td>0.385</td>\n",
       "      <td>0.150</td>\n",
       "      <td>1.1185</td>\n",
       "      <td>0.5425</td>\n",
       "      <td>0.2445</td>\n",
       "      <td>0.2845</td>\n",
       "    </tr>\n",
       "    <tr>\n",
       "      <th>2</th>\n",
       "      <td>1</td>\n",
       "      <td>0</td>\n",
       "      <td>0</td>\n",
       "      <td>0.645</td>\n",
       "      <td>0.520</td>\n",
       "      <td>0.180</td>\n",
       "      <td>1.2850</td>\n",
       "      <td>0.5775</td>\n",
       "      <td>0.3520</td>\n",
       "      <td>0.3170</td>\n",
       "    </tr>\n",
       "    <tr>\n",
       "      <th>3</th>\n",
       "      <td>0</td>\n",
       "      <td>0</td>\n",
       "      <td>1</td>\n",
       "      <td>0.640</td>\n",
       "      <td>0.510</td>\n",
       "      <td>0.170</td>\n",
       "      <td>1.3715</td>\n",
       "      <td>0.5670</td>\n",
       "      <td>0.3070</td>\n",
       "      <td>0.4090</td>\n",
       "    </tr>\n",
       "    <tr>\n",
       "      <th>4</th>\n",
       "      <td>1</td>\n",
       "      <td>0</td>\n",
       "      <td>0</td>\n",
       "      <td>0.655</td>\n",
       "      <td>0.540</td>\n",
       "      <td>0.215</td>\n",
       "      <td>1.5555</td>\n",
       "      <td>0.6950</td>\n",
       "      <td>0.2960</td>\n",
       "      <td>0.4440</td>\n",
       "    </tr>\n",
       "  </tbody>\n",
       "</table>\n",
       "</div>"
      ],
      "text/plain": [
       "   sex0  sex1  sex2  ...  shucked_weight  viscera_weight  shell_weight\n",
       "0     0     0     1  ...          0.4125          0.2735        0.4150\n",
       "1     1     0     0  ...          0.5425          0.2445        0.2845\n",
       "2     1     0     0  ...          0.5775          0.3520        0.3170\n",
       "3     0     0     1  ...          0.5670          0.3070        0.4090\n",
       "4     1     0     0  ...          0.6950          0.2960        0.4440\n",
       "\n",
       "[5 rows x 10 columns]"
      ]
     },
     "execution_count": 131,
     "metadata": {
      "tags": []
     },
     "output_type": "execute_result"
    }
   ],
   "source": [
    "test_sex_coders = encoder.transform(data_test.sex.copy())\n",
    "\n",
    "df_sex_test = pd.DataFrame(test_sex_coders,columns=['sex0','sex1','sex2'])\n",
    "df_sex_test.head(5)\n",
    "\n",
    "#data = data.drop('sex',axis=1)\n",
    "new_data_test = pd.concat([df_sex_test.reset_index(drop=True), data_test.reset_index(drop=True)], axis=1)\n",
    "new_data_test = new_data_test.drop('sex',axis=1)\n",
    "new_data_test.head(5)"
   ]
  },
  {
   "cell_type": "code",
   "execution_count": null,
   "metadata": {
    "colab": {
     "base_uri": "https://localhost:8080/"
    },
    "id": "yIbVLiUwtWd-",
    "outputId": "ebdefc0a-64b8-4a67-ddb7-fd3cb3cb2180"
   },
   "outputs": [
    {
     "data": {
      "text/plain": [
       "array([3, 2, 2, ..., 3, 1, 2])"
      ]
     },
     "execution_count": 134,
     "metadata": {
      "tags": []
     },
     "output_type": "execute_result"
    }
   ],
   "source": [
    "y_pred = rfc.predict(new_data_test)\n",
    "y_pred"
   ]
  },
  {
   "cell_type": "markdown",
   "metadata": {
    "id": "owRaoRPsr-34"
   },
   "source": [
    "#Submit predicted values"
   ]
  },
  {
   "cell_type": "code",
   "execution_count": 139,
   "metadata": {
    "colab": {
     "base_uri": "https://localhost:8080/"
    },
    "id": "jq5fSkTScRBS",
    "outputId": "228aa77a-464b-4ffc-999f-6c96b7881cdc"
   },
   "outputs": [
    {
     "name": "stdout",
     "output_type": "stream",
     "text": [
      " - Resposta do servidor:\n",
      " \n",
      "<!DOCTYPE html>\n",
      "<html>\n",
      "<head>\n",
      "<meta name=\"viewport\" content=\"width=device-width, initial-scale=1\">\n",
      "<style>\n",
      "table {\n",
      "    font-family: arial, sans-serif;\n",
      "    border-collapse: collapse;\n",
      "    width: 80%;\n",
      "    margin: 0 auto;\n",
      "}\n",
      "\n",
      "td, th {\n",
      "    border: 1px solid #ddd;\n",
      "    text-align: left;\n",
      "    padding: 8px;\n",
      "}\n",
      "\n",
      "td.prize {\n",
      "    text-align: center;\n",
      "}\n",
      "\n",
      "tr:nth-child(even) {\n",
      "    background-color: #f2f2f2;\n",
      "}\n",
      "\n",
      "tr:hover {\n",
      "\tbackground-color: #ddd;\n",
      "}\n",
      "\n",
      "th {\n",
      "    padding-top: 12px;\n",
      "    padding-bottom: 12px;\n",
      "    text-align: center;\n",
      "    background-color: #4CAF50;\n",
      "    color: white;\n",
      "}\n",
      "\n",
      "h1 {\n",
      "\ttext-align: center;\n",
      "}\n",
      "\n",
      "</style>\n",
      "</head>\n",
      "<body style=\"width:80%; margin:auto;\">\n",
      "\n",
      "<h1>Top 10</h1>\n",
      "<h1>Atividade 03 - Avaliação de classificador para Abalones</h1>\n",
      "\n",
      "<table>\n",
      "  <tr>\n",
      "    <th>Equipe</th>\n",
      "    <th>Acurácia</th>\n",
      "    <th>Data do envio</th>\n",
      "    <th>Rank</th>\n",
      "  </tr>\n",
      "\n",
      "<tr>\n",
      "    \t<td>Simple Agent*</td>\n",
      "        <td>0.5980861244</td>\n",
      "        <td>11-12-2020 11:28:24</td>\n",
      "        <td class=\"prize\"><img src=\"imgs/medal1-32.png\"></td>\n",
      "        </tr><tr>\n",
      "    \t<td>Aimless Agent*</td>\n",
      "        <td>0.3387559809</td>\n",
      "        <td>11-12-2020 11:28:25</td>\n",
      "        <td class=\"prize\"><img src=\"imgs/medal2-32.png\"></td>\n",
      "        </tr></table>\n",
      "</body>\n",
      "</html>\n",
      " \n",
      "\n"
     ]
    }
   ],
   "source": [
    "# Enviando previsões realizadas com o modelo para o servidor\n",
    "URL = 'https://aydanomachado.com/mlclass/03_Ranking.php'\n",
    "\n",
    "#TODO Substituir pela sua chave aqui\n",
    "DEV_KEY = \"Andre Santos\"\n",
    "\n",
    "# json para ser enviado para o servidor\n",
    "data = {'dev_key':DEV_KEY,\n",
    "        'predictions':pd.Series(y_pred).to_json(orient='values')}\n",
    "\n",
    "# Enviando requisição e salvando o objeto resposta\n",
    "r = requests.post(url = URL, data = data)\n",
    "\n",
    "# Extraindo e imprimindo o texto da resposta\n",
    "pastebin_url = r.text\n",
    "print(\" - Resposta do servidor:\\n\", r.text, \"\\n\")"
   ]
  }
 ],
 "metadata": {
  "colab": {
   "collapsed_sections": [],
   "name": "03_Validation.ipynb",
   "provenance": []
  },
  "kernelspec": {
   "display_name": "Python 3",
   "language": "python",
   "name": "python3"
  },
  "language_info": {
   "codemirror_mode": {
    "name": "ipython",
    "version": 3
   },
   "file_extension": ".py",
   "mimetype": "text/x-python",
   "name": "python",
   "nbconvert_exporter": "python",
   "pygments_lexer": "ipython3",
   "version": "3.7.6"
  }
 },
 "nbformat": 4,
 "nbformat_minor": 1
}
