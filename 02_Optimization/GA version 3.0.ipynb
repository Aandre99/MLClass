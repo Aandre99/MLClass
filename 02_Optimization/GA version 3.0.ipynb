{
 "cells": [
  {
   "cell_type": "code",
   "execution_count": 4,
   "metadata": {},
   "outputs": [],
   "source": [
    "import numpy as np\n",
    "import os\n",
    "from tqdm import tqdm\n",
    "import requests\n",
    "import matplotlib.pyplot as plt\n",
    "import json"
   ]
  },
  {
   "cell_type": "code",
   "execution_count": 202,
   "metadata": {},
   "outputs": [],
   "source": [
    "'''\n",
    "Funcão utilizada para computar o valor de ajuste de cada solução da atual\n",
    "população. Retorna a lista de [chomossomo,valor_de_ajuste] e prob_fits que\n",
    "contém a probabilidade de cada cromossomo para a fase de seleção\n",
    "'''\n",
    "\n",
    "def fitness_function(population):\n",
    "    evaluated = []\n",
    "    for chromosome in population:\n",
    "        #resp = requests.get('https://aydanomachado.com/mlclass/02_Optimization.php?phi1={}&theta1={}&phi2={}&theta2={}&phi3={}&theta3={}&dev_key=Andre%20Santos'.format(chromosome[0],chromosome[1],chromosome[2],chromosome[3],chromosome[4],chromosome[5]))\n",
    "        resp = requests.get('http://localhost:8080/antenna/simulate?phi1={}&theta1={}&phi2={}&theta2={}&phi3={}&theta3={}'.format(chromosome[0],chromosome[1],chromosome[2],chromosome[3],chromosome[4],chromosome[5]))\n",
    "        resp = resp.text\n",
    "        #resp = resp.replace(\"'\", \"\\\"\")\n",
    "        #resp = json.loads(resp)\n",
    "        #resp = resp['gain']\n",
    "        resp = float(resp.split('\\n')[0])\n",
    "        evaluated.append([chromosome,resp])\n",
    "    \n",
    "    evaluated.sort(key=lambda x:x[1], reverse=True)\n",
    "    prob_rank = list(np.arange(len(evaluated)))\n",
    "    return evaluated,prob_rank"
   ]
  },
  {
   "cell_type": "code",
   "execution_count": 185,
   "metadata": {},
   "outputs": [],
   "source": [
    "'''\n",
    "Função que faz o cruzamento de dois cromossomos dados, retorna dois cromossomos filhos\n",
    "'''\n",
    "def crossover(father1,father2):\n",
    "    #child1 = [np.hstack((father1[0][:3],father2[0][3:])),0.0]\n",
    "    #child2 = [np.hstack((father2[0][:3],father1[0][3:])),0.0]\n",
    "    #print('f1={}, f2={}'.format(father1,father2))\n",
    "    child1 = [father1[:2]+father2[2:4]+father1[4:],0.0]\n",
    "    child2 = [father2[:2]+father1[2:4]+father2[4:],0.0]\n",
    "\n",
    "    return child1,child2"
   ]
  },
  {
   "cell_type": "code",
   "execution_count": 195,
   "metadata": {},
   "outputs": [],
   "source": [
    "def roulettewheel(current_gen_ord,probs):\n",
    "    \n",
    "    choice = np.random.uniform(0,probs[-1])\n",
    "    count_sum = 0\n",
    "    i = 0\n",
    "    \n",
    "    for prob in probs:\n",
    "        count_sum += prob\n",
    "        if count_sum >= choice:\n",
    "            return current_gen_ord[i]\n",
    "        i+=1\n",
    "        "
   ]
  },
  {
   "cell_type": "code",
   "execution_count": 196,
   "metadata": {},
   "outputs": [],
   "source": [
    "'''\n",
    "Função que aplicaa mutação a um cromossomo dado, a probabilidade de mutação para um \n",
    "determinado cromossomo é de 5%\n",
    "'''\n",
    "def mutation(new_generation):\n",
    "\n",
    "    prob_mutation = 5\n",
    "    muted = []\n",
    "    for chrom in new_generation:\n",
    "        if np.random.randint(0,100) <= prob_mutation:\n",
    "            position = np.random.randint(0,5)\n",
    "            chrom[position] = np.random.randint(0,359)\n",
    "            muted.append(chrom)\n",
    "        else:\n",
    "            muted.append(chrom)\n",
    "    return muted"
   ]
  },
  {
   "cell_type": "code",
   "execution_count": 206,
   "metadata": {},
   "outputs": [],
   "source": [
    "def selection(ordened_population,probs,n_parents):\n",
    "\n",
    "    next_generation = []\n",
    "    n_crossover = 0\n",
    "    \n",
    "    father1 = None\n",
    "    father2 = None\n",
    "    \n",
    "    while True:\n",
    "        if n_crossover == n_parents:\n",
    "            break\n",
    "        father1 = roulettewheel(ordened_population[::-1],probs[::-1])\n",
    "        #while True:\n",
    "        father2 = roulettewheel(ordened_population[::-1],probs[::-1])\n",
    "        #if not (father2[0] == father1[0]):\n",
    "            #break\n",
    "        child1,child2 = crossover(father1[0],father2[0])\n",
    "        \n",
    "        #if not ((child1[0] in next_generation) and (child2[0] in next_generation)):\n",
    "        next_generation.append(child1[0])\n",
    "        next_generation.append(child2[0])\n",
    "        n_crossover+=1\n",
    "    return next_generation"
   ]
  },
  {
   "cell_type": "code",
   "execution_count": 177,
   "metadata": {},
   "outputs": [],
   "source": [
    "def genetic_algorithm(population_init,n_gen,n_crossover):\n",
    "    \n",
    "    current_gen = population_init\n",
    "    best_config = None\n",
    "    best_value_fits = -float('inf')\n",
    "    \n",
    "    for gen in range(n_gen):\n",
    "        current_gen,probs = fitness_function(current_gen)\n",
    "        if best_value_fits < current_gen[0][1]:\n",
    "            best_config = current_gen[0][0]\n",
    "            best_value_fits = current_gen[0][1]\n",
    "        selected = selection(current_gen,probs,n_crossover)\n",
    "        muted = mutation(selected)\n",
    "        next_gen = muted\n",
    "        current_gen = next_gen\n",
    "        \n",
    "        #print('best = {}'.format(best_value))\n",
    "    return best_config,best_value_fits "
   ]
  },
  {
   "cell_type": "code",
   "execution_count": 207,
   "metadata": {},
   "outputs": [
    {
     "name": "stdout",
     "output_type": "stream",
     "text": [
      "Melhor configuração = [56, 235, 288, 63, 160, 70], melhor valor = 3.8874067871213285\n"
     ]
    }
   ],
   "source": [
    "size_pop = 10\n",
    "\n",
    "init_pop = np.random.randint(0,359,(size_pop,6)).tolist()\n",
    "n_gen = 50\n",
    "\n",
    "best_config, best_value = genetic_algorithm(init_pop, n_gen,size_pop // 2 + 1)\n",
    "print('Melhor configuração = {}, melhor valor = {}'.format(best_config, best_value))"
   ]
  },
  {
   "cell_type": "code",
   "execution_count": 200,
   "metadata": {},
   "outputs": [
    {
     "data": {
      "text/plain": [
       "[0, 1, 2, 3, 4, 5, 6, 7, 8, 9]"
      ]
     },
     "execution_count": 200,
     "metadata": {},
     "output_type": "execute_result"
    }
   ],
   "source": [
    "list(np.arange(10))"
   ]
  }
 ],
 "metadata": {
  "kernelspec": {
   "display_name": "Python 3",
   "language": "python",
   "name": "python3"
  },
  "language_info": {
   "codemirror_mode": {
    "name": "ipython",
    "version": 3
   },
   "file_extension": ".py",
   "mimetype": "text/x-python",
   "name": "python",
   "nbconvert_exporter": "python",
   "pygments_lexer": "ipython3",
   "version": "3.7.6"
  }
 },
 "nbformat": 4,
 "nbformat_minor": 4
}
