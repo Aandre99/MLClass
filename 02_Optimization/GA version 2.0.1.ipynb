{
 "cells": [
  {
   "cell_type": "code",
   "execution_count": 1,
   "metadata": {},
   "outputs": [],
   "source": [
    "import numpy as np\n",
    "import os\n",
    "from tqdm import tqdm\n",
    "import requests\n",
    "import matplotlib.pyplot as plt\n",
    "import json"
   ]
  },
  {
   "cell_type": "code",
   "execution_count": 2,
   "metadata": {},
   "outputs": [],
   "source": [
    "'''\n",
    "Funcão utilizada para computar o valor de ajuste de cada solução da atual\n",
    "população. Retorna a lista de [chomossomo,valor_de_ajuste] e prob_fits que\n",
    "contém a probabilidade de cada cromossomo para a fase de seleção\n",
    "'''\n",
    "\n",
    "def fitness_function(population):\n",
    "    evaluated = []\n",
    "    for chromosome in population:\n",
    "        resp = requests.get('https://aydanomachado.com/mlclass/02_Optimization.php?phi1={}&theta1={}&phi2={}&theta2={}&phi3={}&theta3={}&dev_key=Andre%20Santos'.format(chromosome[0],chromosome[1],chromosome[2],chromosome[3],chromosome[4],chromosome[5]))\n",
    "        #resp = requests.get('http://localhost:8080/antenna/simulate?phi1={}&theta1={}&phi2={}&theta2={}&phi3={}&theta3={}'.format(chromosome[0],chromosome[1],chromosome[2],chromosome[3],chromosome[4],chromosome[5]))\n",
    "        resp = resp.text\n",
    "        resp = resp.replace(\"'\", \"\\\"\")\n",
    "        resp = json.loads(resp)\n",
    "        resp = resp['gain']\n",
    "        #resp = float(resp.split('\\n')[0])\n",
    "        evaluated.append([chromosome,resp])\n",
    "    evaluated.sort(key=lambda x:x[1], reverse=True)\n",
    "    #prob_fits = [x[1] for x in evaluated]\n",
    "    #prob_fits = np.exp(prob_fits) / np.sum(np.exp(prob_fits))\n",
    "    return evaluated#,prob_fits"
   ]
  },
  {
   "cell_type": "code",
   "execution_count": 3,
   "metadata": {},
   "outputs": [],
   "source": [
    "'''\n",
    "Função que faz o cruzamento de dois cromossomos dados, retorna dois cromossomos filhos\n",
    "'''\n",
    "def crossover(father1,father2):\n",
    "    \n",
    "    child1 = [np.hstack((father1[0][:3],father2[0][3:])),0.0]\n",
    "    child2 = [np.hstack((father2[0][:3],father1[0][3:])),0.0]\n",
    "    \n",
    "    #child1 = [np.hstack((father1[0][:2],father2[0][2:4],father1[0][4:])),0.0]\n",
    "    #child2 = [np.hstack((father2[0][:2],father1[0][2:4],father2[0][4:])),0.0]\n",
    "\n",
    "    return child1,child2"
   ]
  },
  {
   "cell_type": "code",
   "execution_count": 4,
   "metadata": {},
   "outputs": [],
   "source": [
    "'''\n",
    "Função que aplicaa mutação a um cromossomo dado, a probabilidade de mutação para um \n",
    "determinado cromossomo é de 5%\n",
    "'''\n",
    "def mutation(new_generation):\n",
    "\n",
    "    prob_mutation = 20\n",
    "    muted = []\n",
    "    for chrom in new_generation:\n",
    "        if np.random.randint(0,100) <= prob_mutation:\n",
    "            position = np.random.randint(0,5)\n",
    "            chrom[0][position] = np.random.randint(0,359)\n",
    "            muted.append(chrom[0])\n",
    "        else:\n",
    "            muted.append(chrom[0])\n",
    "    return muted"
   ]
  },
  {
   "cell_type": "code",
   "execution_count": 5,
   "metadata": {},
   "outputs": [],
   "source": [
    "def selection(ordened_population,n_parents=6):\n",
    "    selected = ordened_population[:n_parents]\n",
    "    next_generation = []\n",
    "    for i in range(0,n_parents-1):\n",
    "        \n",
    "        child1,child2 = crossover(selected[i],selected[i+1])\n",
    "        next_generation.append(child1)\n",
    "        next_generation.append(child2)\n",
    "    \n",
    "    return next_generation"
   ]
  },
  {
   "cell_type": "code",
   "execution_count": 6,
   "metadata": {},
   "outputs": [],
   "source": [
    "def genetic_algorithm(population_init,n_gen):\n",
    "    \n",
    "    current_gen = population_init\n",
    "    best_config = None\n",
    "    best_value_fits = -float('inf')\n",
    "    \n",
    "    for gen in tqdm(range(n_gen)):\n",
    "        current_gen = fitness_function(current_gen)\n",
    "        \n",
    "        if best_value_fits < current_gen[0][1]:\n",
    "            best_config = current_gen[0][0]\n",
    "            best_value_fits = current_gen[0][1]\n",
    "\n",
    "        selected = selection(current_gen)\n",
    "        muted = mutation(selected)\n",
    "        \n",
    "        next_gen = muted\n",
    "        current_gen = next_gen\n",
    "    \n",
    "    return best_config,best_value_fits "
   ]
  },
  {
   "cell_type": "code",
   "execution_count": 7,
   "metadata": {},
   "outputs": [
    {
     "name": "stderr",
     "output_type": "stream",
     "text": [
      "100%|██████████████████████████████████████████████████████████████████████████████████| 20/20 [10:32<00:00, 31.61s/it]"
     ]
    },
    {
     "name": "stdout",
     "output_type": "stream",
     "text": [
      "Melhor configuração = [203 220 322  75 169 147], melhor valor = 22.9960647594\n"
     ]
    },
    {
     "name": "stderr",
     "output_type": "stream",
     "text": [
      "\n"
     ]
    }
   ],
   "source": [
    "init_pop = np.random.randint(0,359,(10,6))\n",
    "n_gen = 20\n",
    "best_config, best_value = genetic_algorithm(init_pop, n_gen)\n",
    "print('Melhor configuração = {}, melhor valor = {}'.format(best_config, best_value))"
   ]
  }
 ],
 "metadata": {
  "kernelspec": {
   "display_name": "Python 3",
   "language": "python",
   "name": "python3"
  },
  "language_info": {
   "codemirror_mode": {
    "name": "ipython",
    "version": 3
   },
   "file_extension": ".py",
   "mimetype": "text/x-python",
   "name": "python",
   "nbconvert_exporter": "python",
   "pygments_lexer": "ipython3",
   "version": "3.7.6"
  }
 },
 "nbformat": 4,
 "nbformat_minor": 4
}
